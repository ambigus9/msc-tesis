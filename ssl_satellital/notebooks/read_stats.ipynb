{
 "cells": [
  {
   "cell_type": "code",
   "execution_count": null,
   "metadata": {},
   "outputs": [],
   "source": [
    "# TODO: READ DATA\n"
   ]
  },
  {
   "cell_type": "code",
   "execution_count": 6,
   "metadata": {},
   "outputs": [
    {
     "data": {
      "text/html": [
       "<div>\n",
       "<style scoped>\n",
       "    .dataframe tbody tr th:only-of-type {\n",
       "        vertical-align: middle;\n",
       "    }\n",
       "\n",
       "    .dataframe tbody tr th {\n",
       "        vertical-align: top;\n",
       "    }\n",
       "\n",
       "    .dataframe thead th {\n",
       "        text-align: right;\n",
       "    }\n",
       "</style>\n",
       "<table border=\"1\" class=\"dataframe\">\n",
       "  <thead>\n",
       "    <tr style=\"text-align: right;\">\n",
       "      <th></th>\n",
       "      <th>image</th>\n",
       "      <th>class</th>\n",
       "      <th>arch_scores</th>\n",
       "    </tr>\n",
       "  </thead>\n",
       "  <tbody>\n",
       "    <tr>\n",
       "      <th>0</th>\n",
       "      <td>/home/miguel/msc-tesis/ssl_satellital/data/NWP...</td>\n",
       "      <td>medium_residential</td>\n",
       "      <td>{'ResNet50': 0.08072095, 'DenseNet169': 0.0600...</td>\n",
       "    </tr>\n",
       "    <tr>\n",
       "      <th>1</th>\n",
       "      <td>/home/miguel/msc-tesis/ssl_satellital/data/NWP...</td>\n",
       "      <td>medium_residential</td>\n",
       "      <td>{'ResNet50': 0.08634557, 'DenseNet169': 0.0930...</td>\n",
       "    </tr>\n",
       "    <tr>\n",
       "      <th>2</th>\n",
       "      <td>/home/miguel/msc-tesis/ssl_satellital/data/NWP...</td>\n",
       "      <td>basketball_court</td>\n",
       "      <td>{'ResNet50': 0.05540472, 'DenseNet169': 0.0546...</td>\n",
       "    </tr>\n",
       "    <tr>\n",
       "      <th>3</th>\n",
       "      <td>/home/miguel/msc-tesis/ssl_satellital/data/NWP...</td>\n",
       "      <td>airplane</td>\n",
       "      <td>{'ResNet50': 0.072716594, 'DenseNet169': 0.062...</td>\n",
       "    </tr>\n",
       "    <tr>\n",
       "      <th>4</th>\n",
       "      <td>/home/miguel/msc-tesis/ssl_satellital/data/NWP...</td>\n",
       "      <td>parking_lot</td>\n",
       "      <td>{'ResNet50': 0.0513719, 'DenseNet169': 0.05312...</td>\n",
       "    </tr>\n",
       "    <tr>\n",
       "      <th>...</th>\n",
       "      <td>...</td>\n",
       "      <td>...</td>\n",
       "      <td>...</td>\n",
       "    </tr>\n",
       "    <tr>\n",
       "      <th>3131</th>\n",
       "      <td>/home/miguel/msc-tesis/ssl_satellital/data/NWP...</td>\n",
       "      <td>sea_ice</td>\n",
       "      <td>{'ResNet50': 0.09766289, 'DenseNet169': 0.2469...</td>\n",
       "    </tr>\n",
       "    <tr>\n",
       "      <th>3132</th>\n",
       "      <td>/home/miguel/msc-tesis/ssl_satellital/data/NWP...</td>\n",
       "      <td>sea_ice</td>\n",
       "      <td>{'ResNet50': 0.12210725, 'DenseNet169': 0.0612...</td>\n",
       "    </tr>\n",
       "    <tr>\n",
       "      <th>3133</th>\n",
       "      <td>/home/miguel/msc-tesis/ssl_satellital/data/NWP...</td>\n",
       "      <td>sea_ice</td>\n",
       "      <td>{'ResNet50': 0.18823408, 'DenseNet169': 0.0641...</td>\n",
       "    </tr>\n",
       "    <tr>\n",
       "      <th>3134</th>\n",
       "      <td>/home/miguel/msc-tesis/ssl_satellital/data/NWP...</td>\n",
       "      <td>sea_ice</td>\n",
       "      <td>{'ResNet50': 0.15213564, 'DenseNet169': 0.0978...</td>\n",
       "    </tr>\n",
       "    <tr>\n",
       "      <th>3135</th>\n",
       "      <td>/home/miguel/msc-tesis/ssl_satellital/data/NWP...</td>\n",
       "      <td>sea_ice</td>\n",
       "      <td>{'ResNet50': 0.21904814, 'DenseNet169': 0.2311...</td>\n",
       "    </tr>\n",
       "  </tbody>\n",
       "</table>\n",
       "<p>3136 rows × 3 columns</p>\n",
       "</div>"
      ],
      "text/plain": [
       "                                                  image               class  \\\n",
       "0     /home/miguel/msc-tesis/ssl_satellital/data/NWP...  medium_residential   \n",
       "1     /home/miguel/msc-tesis/ssl_satellital/data/NWP...  medium_residential   \n",
       "2     /home/miguel/msc-tesis/ssl_satellital/data/NWP...    basketball_court   \n",
       "3     /home/miguel/msc-tesis/ssl_satellital/data/NWP...            airplane   \n",
       "4     /home/miguel/msc-tesis/ssl_satellital/data/NWP...         parking_lot   \n",
       "...                                                 ...                 ...   \n",
       "3131  /home/miguel/msc-tesis/ssl_satellital/data/NWP...             sea_ice   \n",
       "3132  /home/miguel/msc-tesis/ssl_satellital/data/NWP...             sea_ice   \n",
       "3133  /home/miguel/msc-tesis/ssl_satellital/data/NWP...             sea_ice   \n",
       "3134  /home/miguel/msc-tesis/ssl_satellital/data/NWP...             sea_ice   \n",
       "3135  /home/miguel/msc-tesis/ssl_satellital/data/NWP...             sea_ice   \n",
       "\n",
       "                                            arch_scores  \n",
       "0     {'ResNet50': 0.08072095, 'DenseNet169': 0.0600...  \n",
       "1     {'ResNet50': 0.08634557, 'DenseNet169': 0.0930...  \n",
       "2     {'ResNet50': 0.05540472, 'DenseNet169': 0.0546...  \n",
       "3     {'ResNet50': 0.072716594, 'DenseNet169': 0.062...  \n",
       "4     {'ResNet50': 0.0513719, 'DenseNet169': 0.05312...  \n",
       "...                                                 ...  \n",
       "3131  {'ResNet50': 0.09766289, 'DenseNet169': 0.2469...  \n",
       "3132  {'ResNet50': 0.12210725, 'DenseNet169': 0.0612...  \n",
       "3133  {'ResNet50': 0.18823408, 'DenseNet169': 0.0641...  \n",
       "3134  {'ResNet50': 0.15213564, 'DenseNet169': 0.0978...  \n",
       "3135  {'ResNet50': 0.21904814, 'DenseNet169': 0.2311...  \n",
       "\n",
       "[3136 rows x 3 columns]"
      ]
     },
     "execution_count": 6,
     "metadata": {},
     "output_type": "execute_result"
    }
   ],
   "source": [
    "import pandas as pd\n",
    "df_LC = pd.read_pickle('/home/miguel/msc-tesis/ssl_satellital/stats/data_label_stats_33_0_LC.pickle')\n",
    "df_LC"
   ]
  },
  {
   "cell_type": "code",
   "execution_count": 8,
   "metadata": {},
   "outputs": [],
   "source": [
    "def estimate_stats_scores(df):\n",
    "    stats_scores = {}\n",
    "    df_temp = df.copy()\n",
    "    df_temp['arch_scores_mean'] = df_temp.apply(lambda x: np.mean(list(x['arch_scores'].values())) ,axis=1)\n",
    "    df_temp['arch_scores_std'] = df_temp.apply(lambda x: np.std(list(x['arch_scores'].values())) ,axis=1)\n",
    "\n",
    "    scores_mean = df_temp['arch_scores_mean'].mean()\n",
    "    scores_std = df_temp['arch_scores_std'].mean()\n",
    "\n",
    "    stats_scores['df'] = df_temp\n",
    "    stats_scores['scores_mean'] = scores_mean\n",
    "    stats_scores['scores_std'] = scores_std\n",
    "    return stats_scores"
   ]
  },
  {
   "cell_type": "code",
   "execution_count": 15,
   "metadata": {},
   "outputs": [
    {
     "data": {
      "text/plain": [
       "{'id': 33,\n",
       " 'gpu': 5,\n",
       " 'dataset': 'satellital',\n",
       " 'dataset_base': 'NWPU-RESISC45',\n",
       " 'weights': 'imagenet',\n",
       " 'img_height': 299,\n",
       " 'img_width': 299,\n",
       " 'aug_factor': 1.5,\n",
       " 'class_num': 45,\n",
       " 'batch_size': 16,\n",
       " 'batch_size_u': 5,\n",
       " 'save_model': False,\n",
       " 'x_col_name': 'image',\n",
       " 'y_col_name': 'class',\n",
       " 'ruta_base': 'data/',\n",
       " 'transfer_learning': 'classic',\n",
       " 'save_fig_path': 'plots/',\n",
       " 'modality': 'ultra-fast',\n",
       " 'save_path_logs': 'logs/',\n",
       " 'path_label_stats': 'stats/data_label_stats_',\n",
       " 'ssl_threshold': 0.9,\n",
       " 'split_train_test': 5,\n",
       " 'split_kfold': 4}"
      ]
     },
     "execution_count": 15,
     "metadata": {},
     "output_type": "execute_result"
    }
   ],
   "source": [
    "#loading global configuration\n",
    "def read_yaml(yml_path):\n",
    "    import yaml\n",
    "    with open(yml_path) as f:\n",
    "        # use safe_load instead load\n",
    "        dataMap = yaml.safe_load(f)\n",
    "    return dataMap\n",
    "\n",
    "pipeline = read_yaml('/home/miguel/msc-tesis/ssl_satellital/ssl_baseline.yml')\n",
    "pipeline"
   ]
  },
  {
   "cell_type": "code",
   "execution_count": 17,
   "metadata": {},
   "outputs": [
    {
     "data": {
      "text/html": [
       "<div>\n",
       "<style scoped>\n",
       "    .dataframe tbody tr th:only-of-type {\n",
       "        vertical-align: middle;\n",
       "    }\n",
       "\n",
       "    .dataframe tbody tr th {\n",
       "        vertical-align: top;\n",
       "    }\n",
       "\n",
       "    .dataframe thead th {\n",
       "        text-align: right;\n",
       "    }\n",
       "</style>\n",
       "<table border=\"1\" class=\"dataframe\">\n",
       "  <thead>\n",
       "    <tr style=\"text-align: right;\">\n",
       "      <th></th>\n",
       "      <th>image</th>\n",
       "      <th>class</th>\n",
       "      <th>arch_scores</th>\n",
       "      <th>gth</th>\n",
       "    </tr>\n",
       "  </thead>\n",
       "  <tbody>\n",
       "  </tbody>\n",
       "</table>\n",
       "</div>"
      ],
      "text/plain": [
       "Empty DataFrame\n",
       "Columns: [image, class, arch_scores, gth]\n",
       "Index: []"
      ]
     },
     "execution_count": 17,
     "metadata": {},
     "output_type": "execute_result"
    }
   ],
   "source": [
    "df_LC_TP"
   ]
  },
  {
   "cell_type": "code",
   "execution_count": 18,
   "metadata": {},
   "outputs": [
    {
     "data": {
      "text/plain": [
       "{'df':                                                   image               class  \\\n",
       " 0     /home/miguel/msc-tesis/ssl_satellital/data/NWP...  medium_residential   \n",
       " 1     /home/miguel/msc-tesis/ssl_satellital/data/NWP...  medium_residential   \n",
       " 2     /home/miguel/msc-tesis/ssl_satellital/data/NWP...    basketball_court   \n",
       " 3     /home/miguel/msc-tesis/ssl_satellital/data/NWP...            airplane   \n",
       " 4     /home/miguel/msc-tesis/ssl_satellital/data/NWP...         parking_lot   \n",
       " ...                                                 ...                 ...   \n",
       " 3131  /home/miguel/msc-tesis/ssl_satellital/data/NWP...             sea_ice   \n",
       " 3132  /home/miguel/msc-tesis/ssl_satellital/data/NWP...             sea_ice   \n",
       " 3133  /home/miguel/msc-tesis/ssl_satellital/data/NWP...             sea_ice   \n",
       " 3134  /home/miguel/msc-tesis/ssl_satellital/data/NWP...             sea_ice   \n",
       " 3135  /home/miguel/msc-tesis/ssl_satellital/data/NWP...             sea_ice   \n",
       " \n",
       "                                             arch_scores gth  arch_scores_mean  \\\n",
       " 0     {'ResNet50': 0.08072095, 'DenseNet169': 0.0600...   3          0.060059   \n",
       " 1     {'ResNet50': 0.08634557, 'DenseNet169': 0.0930...   6          0.074589   \n",
       " 2     {'ResNet50': 0.05540472, 'DenseNet169': 0.0546...   2          0.048402   \n",
       " 3     {'ResNet50': 0.072716594, 'DenseNet169': 0.062...   0          0.060324   \n",
       " 4     {'ResNet50': 0.0513719, 'DenseNet169': 0.05312...   2          0.051356   \n",
       " ...                                                 ...  ..               ...   \n",
       " 3131  {'ResNet50': 0.09766289, 'DenseNet169': 0.2469...   2          0.130106   \n",
       " 3132  {'ResNet50': 0.12210725, 'DenseNet169': 0.0612...   4          0.072542   \n",
       " 3133  {'ResNet50': 0.18823408, 'DenseNet169': 0.0641...   6          0.099185   \n",
       " 3134  {'ResNet50': 0.15213564, 'DenseNet169': 0.0978...   6          0.097586   \n",
       " 3135  {'ResNet50': 0.21904814, 'DenseNet169': 0.2311...   4          0.163008   \n",
       " \n",
       "       arch_scores_std  \n",
       " 0            0.016864  \n",
       " 1            0.021520  \n",
       " 2            0.009351  \n",
       " 3            0.011166  \n",
       " 4            0.001454  \n",
       " ...               ...  \n",
       " 3131         0.085300  \n",
       " 3132         0.036731  \n",
       " 3133         0.063446  \n",
       " 3134         0.044659  \n",
       " 3135         0.087981  \n",
       " \n",
       " [3136 rows x 6 columns],\n",
       " 'scores_mean': 0.07117765691910623,\n",
       " 'scores_std': 0.02545075906757157}"
      ]
     },
     "execution_count": 18,
     "metadata": {},
     "output_type": "execute_result"
    }
   ],
   "source": [
    "df_LC_stats = estimate_stats_scores(df_LC)\n",
    "df_LC_stats"
   ]
  },
  {
   "cell_type": "code",
   "execution_count": 22,
   "metadata": {},
   "outputs": [
    {
     "data": {
      "text/plain": [
       "0       tennis_court\n",
       "1       tennis_court\n",
       "2       tennis_court\n",
       "3       tennis_court\n",
       "4       tennis_court\n",
       "            ...     \n",
       "3131         sea_ice\n",
       "3132         sea_ice\n",
       "3133         sea_ice\n",
       "3134         sea_ice\n",
       "3135         sea_ice\n",
       "Name: image, Length: 3136, dtype: object"
      ]
     },
     "execution_count": 22,
     "metadata": {},
     "output_type": "execute_result"
    }
   ],
   "source": [
    "df_LC[pipeline[\"x_col_name\"]].apply(lambda x:x.split('/')[-2])#.split('_')[-1][0])"
   ]
  },
  {
   "cell_type": "code",
   "execution_count": 25,
   "metadata": {},
   "outputs": [
    {
     "data": {
      "text/plain": [
       "{'df':                                                   image         class  \\\n",
       " 59    /home/miguel/msc-tesis/ssl_satellital/data/NWP...  tennis_court   \n",
       " 81    /home/miguel/msc-tesis/ssl_satellital/data/NWP...  tennis_court   \n",
       " 109   /home/miguel/msc-tesis/ssl_satellital/data/NWP...  tennis_court   \n",
       " 112   /home/miguel/msc-tesis/ssl_satellital/data/NWP...  tennis_court   \n",
       " 130   /home/miguel/msc-tesis/ssl_satellital/data/NWP...  tennis_court   \n",
       " ...                                                 ...           ...   \n",
       " 3131  /home/miguel/msc-tesis/ssl_satellital/data/NWP...       sea_ice   \n",
       " 3132  /home/miguel/msc-tesis/ssl_satellital/data/NWP...       sea_ice   \n",
       " 3133  /home/miguel/msc-tesis/ssl_satellital/data/NWP...       sea_ice   \n",
       " 3134  /home/miguel/msc-tesis/ssl_satellital/data/NWP...       sea_ice   \n",
       " 3135  /home/miguel/msc-tesis/ssl_satellital/data/NWP...       sea_ice   \n",
       " \n",
       "                                             arch_scores           gth  \\\n",
       " 59    {'ResNet50': 0.08115628, 'DenseNet169': 0.0637...  tennis_court   \n",
       " 81    {'ResNet50': 0.049040224, 'DenseNet169': 0.061...  tennis_court   \n",
       " 109   {'ResNet50': 0.090332456, 'DenseNet169': 0.063...  tennis_court   \n",
       " 112   {'ResNet50': 0.099895015, 'DenseNet169': 0.046...  tennis_court   \n",
       " 130   {'ResNet50': 0.085757345, 'DenseNet169': 0.091...  tennis_court   \n",
       " ...                                                 ...           ...   \n",
       " 3131  {'ResNet50': 0.09766289, 'DenseNet169': 0.2469...       sea_ice   \n",
       " 3132  {'ResNet50': 0.12210725, 'DenseNet169': 0.0612...       sea_ice   \n",
       " 3133  {'ResNet50': 0.18823408, 'DenseNet169': 0.0641...       sea_ice   \n",
       " 3134  {'ResNet50': 0.15213564, 'DenseNet169': 0.0978...       sea_ice   \n",
       " 3135  {'ResNet50': 0.21904814, 'DenseNet169': 0.2311...       sea_ice   \n",
       " \n",
       "       arch_scores_mean  arch_scores_std  \n",
       " 59            0.061847         0.016611  \n",
       " 81            0.052809         0.006110  \n",
       " 109           0.070666         0.014025  \n",
       " 112           0.062906         0.026191  \n",
       " 130           0.071876         0.023916  \n",
       " ...                ...              ...  \n",
       " 3131          0.130106         0.085300  \n",
       " 3132          0.072542         0.036731  \n",
       " 3133          0.099185         0.063446  \n",
       " 3134          0.097586         0.044659  \n",
       " 3135          0.163008         0.087981  \n",
       " \n",
       " [783 rows x 6 columns],\n",
       " 'scores_mean': 0.0881395530797741,\n",
       " 'scores_std': 0.04152090852993325}"
      ]
     },
     "execution_count": 25,
     "metadata": {},
     "output_type": "execute_result"
    }
   ],
   "source": [
    "df_LC_stats = estimate_stats_scores(df_LC)\n",
    "df_LC[\"gth\"] = df_LC[pipeline[\"x_col_name\"]].apply(lambda x:x.split('/')[-2])\n",
    "df_LC_TP = df_LC[ ( df_LC[pipeline[\"y_col_name\"]] == df_LC[\"gth\"] ) ]\n",
    "df_LC_stats_TP = estimate_stats_scores(df_LC_TP)\n",
    "df_LC_stats_TP\n",
    "#labeling_stats[\"df_LC_stats\"] = df_LC_stats\n",
    "#labeling_stats[\"df_LC_stats_TP\"] = df_LC_stats_TP"
   ]
  },
  {
   "cell_type": "code",
   "execution_count": 5,
   "metadata": {},
   "outputs": [
    {
     "data": {
      "text/plain": [
       "0       0.060059\n",
       "1       0.074589\n",
       "2       0.048402\n",
       "3       0.060324\n",
       "4       0.051356\n",
       "          ...   \n",
       "3131    0.130106\n",
       "3132    0.072542\n",
       "3133    0.099185\n",
       "3134    0.097586\n",
       "3135    0.163008\n",
       "Length: 3136, dtype: float64"
      ]
     },
     "execution_count": 5,
     "metadata": {},
     "output_type": "execute_result"
    }
   ],
   "source": [
    "import numpy as np\n",
    "df_temp.apply(lambda x: np.mean(list(x['arch_scores'].values())) ,axis=1)"
   ]
  }
 ],
 "metadata": {
  "kernelspec": {
   "display_name": "Python 3",
   "language": "python",
   "name": "python3"
  },
  "language_info": {
   "codemirror_mode": {
    "name": "ipython",
    "version": 3
   },
   "file_extension": ".py",
   "mimetype": "text/x-python",
   "name": "python",
   "nbconvert_exporter": "python",
   "pygments_lexer": "ipython3",
   "version": "3.6.9"
  }
 },
 "nbformat": 4,
 "nbformat_minor": 4
}
