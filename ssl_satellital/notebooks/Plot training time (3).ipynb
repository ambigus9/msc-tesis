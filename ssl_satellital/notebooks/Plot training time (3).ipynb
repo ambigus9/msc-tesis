{
 "cells": [
  {
   "cell_type": "markdown",
   "metadata": {},
   "source": [
    "## Dependencias\n",
    "- pip install -U kaleido\n",
    "- pip install plotly\n",
    "- pip install pandas\n",
    "- conda install -c plotly plotly-orca"
   ]
  },
  {
   "cell_type": "code",
   "execution_count": 1,
   "metadata": {},
   "outputs": [],
   "source": [
    "import pandas as pd\n",
    "\n",
    "def process_df(csv_path, dataset_name):\n",
    "    df_temp = pd.read_csv(csv_path)\n",
    "    df = df_temp.copy()\n",
    "    df[\"arquitectura\"] = df['arquitectura'].replace(['InceptionV4'], 'InceptionResNetV2')\n",
    "    df[\"training_time\"] = df[\"training_time\"]/60\n",
    "    df[\"iteracion\"] = df.apply(lambda x: int(x[\"iteracion\"]) + 1, axis=1)\n",
    "    df = df.groupby(['iteracion','arquitectura']).mean()\n",
    "    df = df.reset_index()\n",
    "    df[\"dataset\"] = dataset_name    \n",
    "    return df"
   ]
  },
  {
   "cell_type": "markdown",
   "metadata": {},
   "source": [
    "## Concatening Results"
   ]
  },
  {
   "cell_type": "code",
   "execution_count": 5,
   "metadata": {},
   "outputs": [
    {
     "data": {
      "text/html": [
       "<div>\n",
       "<style scoped>\n",
       "    .dataframe tbody tr th:only-of-type {\n",
       "        vertical-align: middle;\n",
       "    }\n",
       "\n",
       "    .dataframe tbody tr th {\n",
       "        vertical-align: top;\n",
       "    }\n",
       "\n",
       "    .dataframe thead th {\n",
       "        text-align: right;\n",
       "    }\n",
       "</style>\n",
       "<table border=\"1\" class=\"dataframe\">\n",
       "  <thead>\n",
       "    <tr style=\"text-align: right;\">\n",
       "      <th></th>\n",
       "      <th>Stage</th>\n",
       "      <th>Architecture</th>\n",
       "      <th>KFold</th>\n",
       "      <th>Training time</th>\n",
       "      <th>Dataset</th>\n",
       "    </tr>\n",
       "  </thead>\n",
       "  <tbody>\n",
       "    <tr>\n",
       "      <th>0</th>\n",
       "      <td>1</td>\n",
       "      <td>InceptionResNetV2</td>\n",
       "      <td>1.5</td>\n",
       "      <td>23.419995</td>\n",
       "      <td>AID</td>\n",
       "    </tr>\n",
       "    <tr>\n",
       "      <th>1</th>\n",
       "      <td>1</td>\n",
       "      <td>InceptionV3</td>\n",
       "      <td>1.5</td>\n",
       "      <td>24.208250</td>\n",
       "      <td>AID</td>\n",
       "    </tr>\n",
       "    <tr>\n",
       "      <th>2</th>\n",
       "      <td>1</td>\n",
       "      <td>ResNet152</td>\n",
       "      <td>1.5</td>\n",
       "      <td>22.083500</td>\n",
       "      <td>AID</td>\n",
       "    </tr>\n",
       "    <tr>\n",
       "      <th>3</th>\n",
       "      <td>2</td>\n",
       "      <td>InceptionResNetV2</td>\n",
       "      <td>1.5</td>\n",
       "      <td>26.032266</td>\n",
       "      <td>AID</td>\n",
       "    </tr>\n",
       "    <tr>\n",
       "      <th>4</th>\n",
       "      <td>2</td>\n",
       "      <td>InceptionV3</td>\n",
       "      <td>1.5</td>\n",
       "      <td>33.016645</td>\n",
       "      <td>AID</td>\n",
       "    </tr>\n",
       "    <tr>\n",
       "      <th>5</th>\n",
       "      <td>2</td>\n",
       "      <td>ResNet152</td>\n",
       "      <td>1.5</td>\n",
       "      <td>24.048678</td>\n",
       "      <td>AID</td>\n",
       "    </tr>\n",
       "    <tr>\n",
       "      <th>6</th>\n",
       "      <td>3</td>\n",
       "      <td>InceptionResNetV2</td>\n",
       "      <td>1.5</td>\n",
       "      <td>30.749320</td>\n",
       "      <td>AID</td>\n",
       "    </tr>\n",
       "    <tr>\n",
       "      <th>7</th>\n",
       "      <td>3</td>\n",
       "      <td>InceptionV3</td>\n",
       "      <td>1.5</td>\n",
       "      <td>44.311597</td>\n",
       "      <td>AID</td>\n",
       "    </tr>\n",
       "    <tr>\n",
       "      <th>8</th>\n",
       "      <td>3</td>\n",
       "      <td>ResNet152</td>\n",
       "      <td>1.5</td>\n",
       "      <td>26.623081</td>\n",
       "      <td>AID</td>\n",
       "    </tr>\n",
       "    <tr>\n",
       "      <th>9</th>\n",
       "      <td>4</td>\n",
       "      <td>InceptionResNetV2</td>\n",
       "      <td>1.5</td>\n",
       "      <td>39.772300</td>\n",
       "      <td>AID</td>\n",
       "    </tr>\n",
       "    <tr>\n",
       "      <th>10</th>\n",
       "      <td>4</td>\n",
       "      <td>InceptionV3</td>\n",
       "      <td>1.5</td>\n",
       "      <td>47.948646</td>\n",
       "      <td>AID</td>\n",
       "    </tr>\n",
       "    <tr>\n",
       "      <th>11</th>\n",
       "      <td>4</td>\n",
       "      <td>ResNet152</td>\n",
       "      <td>1.5</td>\n",
       "      <td>37.176274</td>\n",
       "      <td>AID</td>\n",
       "    </tr>\n",
       "    <tr>\n",
       "      <th>12</th>\n",
       "      <td>5</td>\n",
       "      <td>InceptionResNetV2</td>\n",
       "      <td>1.5</td>\n",
       "      <td>40.941717</td>\n",
       "      <td>AID</td>\n",
       "    </tr>\n",
       "    <tr>\n",
       "      <th>13</th>\n",
       "      <td>5</td>\n",
       "      <td>InceptionV3</td>\n",
       "      <td>1.5</td>\n",
       "      <td>45.975700</td>\n",
       "      <td>AID</td>\n",
       "    </tr>\n",
       "    <tr>\n",
       "      <th>14</th>\n",
       "      <td>5</td>\n",
       "      <td>ResNet152</td>\n",
       "      <td>1.5</td>\n",
       "      <td>33.664159</td>\n",
       "      <td>AID</td>\n",
       "    </tr>\n",
       "    <tr>\n",
       "      <th>15</th>\n",
       "      <td>1</td>\n",
       "      <td>InceptionResNetV2</td>\n",
       "      <td>1.0</td>\n",
       "      <td>41.420294</td>\n",
       "      <td>NWPU-RESISC45</td>\n",
       "    </tr>\n",
       "    <tr>\n",
       "      <th>16</th>\n",
       "      <td>1</td>\n",
       "      <td>InceptionV3</td>\n",
       "      <td>1.0</td>\n",
       "      <td>44.288855</td>\n",
       "      <td>NWPU-RESISC45</td>\n",
       "    </tr>\n",
       "    <tr>\n",
       "      <th>17</th>\n",
       "      <td>1</td>\n",
       "      <td>ResNet152</td>\n",
       "      <td>1.0</td>\n",
       "      <td>42.710310</td>\n",
       "      <td>NWPU-RESISC45</td>\n",
       "    </tr>\n",
       "    <tr>\n",
       "      <th>18</th>\n",
       "      <td>2</td>\n",
       "      <td>InceptionResNetV2</td>\n",
       "      <td>1.0</td>\n",
       "      <td>52.197974</td>\n",
       "      <td>NWPU-RESISC45</td>\n",
       "    </tr>\n",
       "    <tr>\n",
       "      <th>19</th>\n",
       "      <td>2</td>\n",
       "      <td>InceptionV3</td>\n",
       "      <td>1.0</td>\n",
       "      <td>54.519783</td>\n",
       "      <td>NWPU-RESISC45</td>\n",
       "    </tr>\n",
       "    <tr>\n",
       "      <th>20</th>\n",
       "      <td>2</td>\n",
       "      <td>ResNet152</td>\n",
       "      <td>1.0</td>\n",
       "      <td>51.024827</td>\n",
       "      <td>NWPU-RESISC45</td>\n",
       "    </tr>\n",
       "    <tr>\n",
       "      <th>21</th>\n",
       "      <td>3</td>\n",
       "      <td>InceptionResNetV2</td>\n",
       "      <td>1.0</td>\n",
       "      <td>55.380320</td>\n",
       "      <td>NWPU-RESISC45</td>\n",
       "    </tr>\n",
       "    <tr>\n",
       "      <th>22</th>\n",
       "      <td>3</td>\n",
       "      <td>InceptionV3</td>\n",
       "      <td>1.0</td>\n",
       "      <td>75.838051</td>\n",
       "      <td>NWPU-RESISC45</td>\n",
       "    </tr>\n",
       "    <tr>\n",
       "      <th>23</th>\n",
       "      <td>3</td>\n",
       "      <td>ResNet152</td>\n",
       "      <td>1.0</td>\n",
       "      <td>57.386235</td>\n",
       "      <td>NWPU-RESISC45</td>\n",
       "    </tr>\n",
       "    <tr>\n",
       "      <th>24</th>\n",
       "      <td>4</td>\n",
       "      <td>InceptionResNetV2</td>\n",
       "      <td>1.0</td>\n",
       "      <td>66.198453</td>\n",
       "      <td>NWPU-RESISC45</td>\n",
       "    </tr>\n",
       "    <tr>\n",
       "      <th>25</th>\n",
       "      <td>4</td>\n",
       "      <td>InceptionV3</td>\n",
       "      <td>1.0</td>\n",
       "      <td>67.246792</td>\n",
       "      <td>NWPU-RESISC45</td>\n",
       "    </tr>\n",
       "    <tr>\n",
       "      <th>26</th>\n",
       "      <td>4</td>\n",
       "      <td>ResNet152</td>\n",
       "      <td>1.0</td>\n",
       "      <td>76.998222</td>\n",
       "      <td>NWPU-RESISC45</td>\n",
       "    </tr>\n",
       "    <tr>\n",
       "      <th>27</th>\n",
       "      <td>5</td>\n",
       "      <td>InceptionResNetV2</td>\n",
       "      <td>0.5</td>\n",
       "      <td>74.639272</td>\n",
       "      <td>NWPU-RESISC45</td>\n",
       "    </tr>\n",
       "    <tr>\n",
       "      <th>28</th>\n",
       "      <td>5</td>\n",
       "      <td>InceptionV3</td>\n",
       "      <td>0.5</td>\n",
       "      <td>81.219366</td>\n",
       "      <td>NWPU-RESISC45</td>\n",
       "    </tr>\n",
       "    <tr>\n",
       "      <th>29</th>\n",
       "      <td>5</td>\n",
       "      <td>ResNet152</td>\n",
       "      <td>1.0</td>\n",
       "      <td>81.235697</td>\n",
       "      <td>NWPU-RESISC45</td>\n",
       "    </tr>\n",
       "    <tr>\n",
       "      <th>30</th>\n",
       "      <td>1</td>\n",
       "      <td>InceptionResNetV2</td>\n",
       "      <td>1.5</td>\n",
       "      <td>9.514643</td>\n",
       "      <td>WHU-RS19</td>\n",
       "    </tr>\n",
       "    <tr>\n",
       "      <th>31</th>\n",
       "      <td>1</td>\n",
       "      <td>InceptionV3</td>\n",
       "      <td>1.5</td>\n",
       "      <td>7.637258</td>\n",
       "      <td>WHU-RS19</td>\n",
       "    </tr>\n",
       "    <tr>\n",
       "      <th>32</th>\n",
       "      <td>1</td>\n",
       "      <td>ResNet152</td>\n",
       "      <td>1.5</td>\n",
       "      <td>8.935571</td>\n",
       "      <td>WHU-RS19</td>\n",
       "    </tr>\n",
       "    <tr>\n",
       "      <th>33</th>\n",
       "      <td>2</td>\n",
       "      <td>InceptionResNetV2</td>\n",
       "      <td>1.5</td>\n",
       "      <td>12.673007</td>\n",
       "      <td>WHU-RS19</td>\n",
       "    </tr>\n",
       "    <tr>\n",
       "      <th>34</th>\n",
       "      <td>2</td>\n",
       "      <td>InceptionV3</td>\n",
       "      <td>1.5</td>\n",
       "      <td>10.910844</td>\n",
       "      <td>WHU-RS19</td>\n",
       "    </tr>\n",
       "    <tr>\n",
       "      <th>35</th>\n",
       "      <td>2</td>\n",
       "      <td>ResNet152</td>\n",
       "      <td>1.5</td>\n",
       "      <td>11.836620</td>\n",
       "      <td>WHU-RS19</td>\n",
       "    </tr>\n",
       "    <tr>\n",
       "      <th>36</th>\n",
       "      <td>3</td>\n",
       "      <td>InceptionResNetV2</td>\n",
       "      <td>1.5</td>\n",
       "      <td>15.134432</td>\n",
       "      <td>WHU-RS19</td>\n",
       "    </tr>\n",
       "    <tr>\n",
       "      <th>37</th>\n",
       "      <td>3</td>\n",
       "      <td>InceptionV3</td>\n",
       "      <td>1.5</td>\n",
       "      <td>15.472424</td>\n",
       "      <td>WHU-RS19</td>\n",
       "    </tr>\n",
       "    <tr>\n",
       "      <th>38</th>\n",
       "      <td>3</td>\n",
       "      <td>ResNet152</td>\n",
       "      <td>1.5</td>\n",
       "      <td>14.630511</td>\n",
       "      <td>WHU-RS19</td>\n",
       "    </tr>\n",
       "    <tr>\n",
       "      <th>39</th>\n",
       "      <td>4</td>\n",
       "      <td>InceptionResNetV2</td>\n",
       "      <td>1.5</td>\n",
       "      <td>17.995706</td>\n",
       "      <td>WHU-RS19</td>\n",
       "    </tr>\n",
       "    <tr>\n",
       "      <th>40</th>\n",
       "      <td>4</td>\n",
       "      <td>InceptionV3</td>\n",
       "      <td>1.5</td>\n",
       "      <td>19.811208</td>\n",
       "      <td>WHU-RS19</td>\n",
       "    </tr>\n",
       "    <tr>\n",
       "      <th>41</th>\n",
       "      <td>4</td>\n",
       "      <td>ResNet152</td>\n",
       "      <td>1.5</td>\n",
       "      <td>14.728236</td>\n",
       "      <td>WHU-RS19</td>\n",
       "    </tr>\n",
       "    <tr>\n",
       "      <th>42</th>\n",
       "      <td>5</td>\n",
       "      <td>InceptionResNetV2</td>\n",
       "      <td>1.5</td>\n",
       "      <td>20.026976</td>\n",
       "      <td>WHU-RS19</td>\n",
       "    </tr>\n",
       "    <tr>\n",
       "      <th>43</th>\n",
       "      <td>5</td>\n",
       "      <td>InceptionV3</td>\n",
       "      <td>1.5</td>\n",
       "      <td>23.353550</td>\n",
       "      <td>WHU-RS19</td>\n",
       "    </tr>\n",
       "    <tr>\n",
       "      <th>44</th>\n",
       "      <td>5</td>\n",
       "      <td>ResNet152</td>\n",
       "      <td>1.5</td>\n",
       "      <td>14.647604</td>\n",
       "      <td>WHU-RS19</td>\n",
       "    </tr>\n",
       "    <tr>\n",
       "      <th>45</th>\n",
       "      <td>1</td>\n",
       "      <td>InceptionResNetV2</td>\n",
       "      <td>1.5</td>\n",
       "      <td>9.236816</td>\n",
       "      <td>UCMerced</td>\n",
       "    </tr>\n",
       "    <tr>\n",
       "      <th>46</th>\n",
       "      <td>1</td>\n",
       "      <td>InceptionV3</td>\n",
       "      <td>1.5</td>\n",
       "      <td>6.899043</td>\n",
       "      <td>UCMerced</td>\n",
       "    </tr>\n",
       "    <tr>\n",
       "      <th>47</th>\n",
       "      <td>1</td>\n",
       "      <td>ResNet152</td>\n",
       "      <td>1.5</td>\n",
       "      <td>10.242101</td>\n",
       "      <td>UCMerced</td>\n",
       "    </tr>\n",
       "    <tr>\n",
       "      <th>48</th>\n",
       "      <td>2</td>\n",
       "      <td>InceptionResNetV2</td>\n",
       "      <td>1.5</td>\n",
       "      <td>12.451956</td>\n",
       "      <td>UCMerced</td>\n",
       "    </tr>\n",
       "    <tr>\n",
       "      <th>49</th>\n",
       "      <td>2</td>\n",
       "      <td>InceptionV3</td>\n",
       "      <td>1.5</td>\n",
       "      <td>9.687429</td>\n",
       "      <td>UCMerced</td>\n",
       "    </tr>\n",
       "    <tr>\n",
       "      <th>50</th>\n",
       "      <td>2</td>\n",
       "      <td>ResNet152</td>\n",
       "      <td>1.5</td>\n",
       "      <td>13.602113</td>\n",
       "      <td>UCMerced</td>\n",
       "    </tr>\n",
       "    <tr>\n",
       "      <th>51</th>\n",
       "      <td>3</td>\n",
       "      <td>InceptionResNetV2</td>\n",
       "      <td>1.5</td>\n",
       "      <td>15.572517</td>\n",
       "      <td>UCMerced</td>\n",
       "    </tr>\n",
       "    <tr>\n",
       "      <th>52</th>\n",
       "      <td>3</td>\n",
       "      <td>InceptionV3</td>\n",
       "      <td>1.5</td>\n",
       "      <td>13.365198</td>\n",
       "      <td>UCMerced</td>\n",
       "    </tr>\n",
       "    <tr>\n",
       "      <th>53</th>\n",
       "      <td>3</td>\n",
       "      <td>ResNet152</td>\n",
       "      <td>1.5</td>\n",
       "      <td>13.380312</td>\n",
       "      <td>UCMerced</td>\n",
       "    </tr>\n",
       "    <tr>\n",
       "      <th>54</th>\n",
       "      <td>4</td>\n",
       "      <td>InceptionResNetV2</td>\n",
       "      <td>1.5</td>\n",
       "      <td>16.835023</td>\n",
       "      <td>UCMerced</td>\n",
       "    </tr>\n",
       "    <tr>\n",
       "      <th>55</th>\n",
       "      <td>4</td>\n",
       "      <td>InceptionV3</td>\n",
       "      <td>1.5</td>\n",
       "      <td>16.122161</td>\n",
       "      <td>UCMerced</td>\n",
       "    </tr>\n",
       "    <tr>\n",
       "      <th>56</th>\n",
       "      <td>4</td>\n",
       "      <td>ResNet152</td>\n",
       "      <td>1.5</td>\n",
       "      <td>19.538214</td>\n",
       "      <td>UCMerced</td>\n",
       "    </tr>\n",
       "    <tr>\n",
       "      <th>57</th>\n",
       "      <td>5</td>\n",
       "      <td>InceptionResNetV2</td>\n",
       "      <td>1.5</td>\n",
       "      <td>17.795319</td>\n",
       "      <td>UCMerced</td>\n",
       "    </tr>\n",
       "    <tr>\n",
       "      <th>58</th>\n",
       "      <td>5</td>\n",
       "      <td>InceptionV3</td>\n",
       "      <td>1.5</td>\n",
       "      <td>20.272688</td>\n",
       "      <td>UCMerced</td>\n",
       "    </tr>\n",
       "    <tr>\n",
       "      <th>59</th>\n",
       "      <td>5</td>\n",
       "      <td>ResNet152</td>\n",
       "      <td>1.5</td>\n",
       "      <td>19.547362</td>\n",
       "      <td>UCMerced</td>\n",
       "    </tr>\n",
       "  </tbody>\n",
       "</table>\n",
       "</div>"
      ],
      "text/plain": [
       "    Stage       Architecture  KFold  Training time        Dataset\n",
       "0       1  InceptionResNetV2    1.5      23.419995            AID\n",
       "1       1        InceptionV3    1.5      24.208250            AID\n",
       "2       1          ResNet152    1.5      22.083500            AID\n",
       "3       2  InceptionResNetV2    1.5      26.032266            AID\n",
       "4       2        InceptionV3    1.5      33.016645            AID\n",
       "5       2          ResNet152    1.5      24.048678            AID\n",
       "6       3  InceptionResNetV2    1.5      30.749320            AID\n",
       "7       3        InceptionV3    1.5      44.311597            AID\n",
       "8       3          ResNet152    1.5      26.623081            AID\n",
       "9       4  InceptionResNetV2    1.5      39.772300            AID\n",
       "10      4        InceptionV3    1.5      47.948646            AID\n",
       "11      4          ResNet152    1.5      37.176274            AID\n",
       "12      5  InceptionResNetV2    1.5      40.941717            AID\n",
       "13      5        InceptionV3    1.5      45.975700            AID\n",
       "14      5          ResNet152    1.5      33.664159            AID\n",
       "15      1  InceptionResNetV2    1.0      41.420294  NWPU-RESISC45\n",
       "16      1        InceptionV3    1.0      44.288855  NWPU-RESISC45\n",
       "17      1          ResNet152    1.0      42.710310  NWPU-RESISC45\n",
       "18      2  InceptionResNetV2    1.0      52.197974  NWPU-RESISC45\n",
       "19      2        InceptionV3    1.0      54.519783  NWPU-RESISC45\n",
       "20      2          ResNet152    1.0      51.024827  NWPU-RESISC45\n",
       "21      3  InceptionResNetV2    1.0      55.380320  NWPU-RESISC45\n",
       "22      3        InceptionV3    1.0      75.838051  NWPU-RESISC45\n",
       "23      3          ResNet152    1.0      57.386235  NWPU-RESISC45\n",
       "24      4  InceptionResNetV2    1.0      66.198453  NWPU-RESISC45\n",
       "25      4        InceptionV3    1.0      67.246792  NWPU-RESISC45\n",
       "26      4          ResNet152    1.0      76.998222  NWPU-RESISC45\n",
       "27      5  InceptionResNetV2    0.5      74.639272  NWPU-RESISC45\n",
       "28      5        InceptionV3    0.5      81.219366  NWPU-RESISC45\n",
       "29      5          ResNet152    1.0      81.235697  NWPU-RESISC45\n",
       "30      1  InceptionResNetV2    1.5       9.514643       WHU-RS19\n",
       "31      1        InceptionV3    1.5       7.637258       WHU-RS19\n",
       "32      1          ResNet152    1.5       8.935571       WHU-RS19\n",
       "33      2  InceptionResNetV2    1.5      12.673007       WHU-RS19\n",
       "34      2        InceptionV3    1.5      10.910844       WHU-RS19\n",
       "35      2          ResNet152    1.5      11.836620       WHU-RS19\n",
       "36      3  InceptionResNetV2    1.5      15.134432       WHU-RS19\n",
       "37      3        InceptionV3    1.5      15.472424       WHU-RS19\n",
       "38      3          ResNet152    1.5      14.630511       WHU-RS19\n",
       "39      4  InceptionResNetV2    1.5      17.995706       WHU-RS19\n",
       "40      4        InceptionV3    1.5      19.811208       WHU-RS19\n",
       "41      4          ResNet152    1.5      14.728236       WHU-RS19\n",
       "42      5  InceptionResNetV2    1.5      20.026976       WHU-RS19\n",
       "43      5        InceptionV3    1.5      23.353550       WHU-RS19\n",
       "44      5          ResNet152    1.5      14.647604       WHU-RS19\n",
       "45      1  InceptionResNetV2    1.5       9.236816       UCMerced\n",
       "46      1        InceptionV3    1.5       6.899043       UCMerced\n",
       "47      1          ResNet152    1.5      10.242101       UCMerced\n",
       "48      2  InceptionResNetV2    1.5      12.451956       UCMerced\n",
       "49      2        InceptionV3    1.5       9.687429       UCMerced\n",
       "50      2          ResNet152    1.5      13.602113       UCMerced\n",
       "51      3  InceptionResNetV2    1.5      15.572517       UCMerced\n",
       "52      3        InceptionV3    1.5      13.365198       UCMerced\n",
       "53      3          ResNet152    1.5      13.380312       UCMerced\n",
       "54      4  InceptionResNetV2    1.5      16.835023       UCMerced\n",
       "55      4        InceptionV3    1.5      16.122161       UCMerced\n",
       "56      4          ResNet152    1.5      19.538214       UCMerced\n",
       "57      5  InceptionResNetV2    1.5      17.795319       UCMerced\n",
       "58      5        InceptionV3    1.5      20.272688       UCMerced\n",
       "59      5          ResNet152    1.5      19.547362       UCMerced"
      ]
     },
     "execution_count": 5,
     "metadata": {},
     "output_type": "execute_result"
    }
   ],
   "source": [
    "ds_csv_time = {\n",
    "    \"AID\": \"/home/miguel/msc-tesis/ssl_satellital/exp_37/results/exp_77/AID/logs/exp_77_time.csv\",\n",
    "    \"NWPU-RESISC45\": \"/home/miguel/msc-tesis/ssl_satellital/exp_37/results/exp_77/NWPU-RESISC45/logs/exp_77_time.csv\",\n",
    "    \"WHU-RS19\": \"/home/miguel/msc-tesis/ssl_satellital/exp_37/results/exp_77/whu_rs19/logs/exp_77_time.csv\",\n",
    "    \"UCMerced\": \"/home/miguel/msc-tesis/ssl_satellital/exp_37/results/ucmerced/logs/exp_75_time.csv\"\n",
    "}\n",
    "\n",
    "df_temp = pd.DataFrame()\n",
    "\n",
    "for k,v in ds_csv_time.items():\n",
    "    df_temp = df_temp.append(process_df(v,k), ignore_index=True)\n",
    "\n",
    "df_temp.columns= [\"Stage\", \"Architecture\", \"KFold\", \"Training time\", \"Dataset\"]\n",
    "df_temp"
   ]
  },
  {
   "cell_type": "code",
   "execution_count": 6,
   "metadata": {},
   "outputs": [
    {
     "data": {
      "application/vnd.plotly.v1+json": {
       "config": {
        "plotlyServerURL": "https://plot.ly"
       },
       "data": [
        {
         "alignmentgroup": "True",
         "hovertemplate": "Dataset=AID<br>Stage=1<br>Architecture=%{x}<br>Training time=%{y}<extra></extra>",
         "legendgroup": "AID",
         "marker": {
          "color": "#636efa"
         },
         "name": "AID",
         "offsetgroup": "AID",
         "orientation": "v",
         "showlegend": true,
         "textposition": "auto",
         "type": "bar",
         "x": [
          "InceptionResNetV2",
          "InceptionV3",
          "ResNet152"
         ],
         "xaxis": "x",
         "y": [
          23.41999509334564,
          24.208249999086064,
          22.083499761422473
         ],
         "yaxis": "y"
        },
        {
         "alignmentgroup": "True",
         "hovertemplate": "Dataset=AID<br>Stage=2<br>Architecture=%{x}<br>Training time=%{y}<extra></extra>",
         "legendgroup": "AID",
         "marker": {
          "color": "#636efa"
         },
         "name": "AID",
         "offsetgroup": "AID",
         "orientation": "v",
         "showlegend": false,
         "textposition": "auto",
         "type": "bar",
         "x": [
          "InceptionResNetV2",
          "InceptionV3",
          "ResNet152"
         ],
         "xaxis": "x2",
         "y": [
          26.032265866796173,
          33.01664507389069,
          24.048677988847096
         ],
         "yaxis": "y2"
        },
        {
         "alignmentgroup": "True",
         "hovertemplate": "Dataset=AID<br>Stage=3<br>Architecture=%{x}<br>Training time=%{y}<extra></extra>",
         "legendgroup": "AID",
         "marker": {
          "color": "#636efa"
         },
         "name": "AID",
         "offsetgroup": "AID",
         "orientation": "v",
         "showlegend": false,
         "textposition": "auto",
         "type": "bar",
         "x": [
          "InceptionResNetV2",
          "InceptionV3",
          "ResNet152"
         ],
         "xaxis": "x3",
         "y": [
          30.749319839477536,
          44.31159656643868,
          26.62308113873005
         ],
         "yaxis": "y3"
        },
        {
         "alignmentgroup": "True",
         "hovertemplate": "Dataset=AID<br>Stage=4<br>Architecture=%{x}<br>Training time=%{y}<extra></extra>",
         "legendgroup": "AID",
         "marker": {
          "color": "#636efa"
         },
         "name": "AID",
         "offsetgroup": "AID",
         "orientation": "v",
         "showlegend": false,
         "textposition": "auto",
         "type": "bar",
         "x": [
          "InceptionResNetV2",
          "InceptionV3",
          "ResNet152"
         ],
         "xaxis": "x4",
         "y": [
          39.772300280133884,
          47.948646432161325,
          37.17627405921618
         ],
         "yaxis": "y4"
        },
        {
         "alignmentgroup": "True",
         "hovertemplate": "Dataset=AID<br>Stage=5<br>Architecture=%{x}<br>Training time=%{y}<extra></extra>",
         "legendgroup": "AID",
         "marker": {
          "color": "#636efa"
         },
         "name": "AID",
         "offsetgroup": "AID",
         "orientation": "v",
         "showlegend": false,
         "textposition": "auto",
         "type": "bar",
         "x": [
          "InceptionResNetV2",
          "InceptionV3",
          "ResNet152"
         ],
         "xaxis": "x5",
         "y": [
          40.9417165517807,
          45.975700098276135,
          33.66415913502375
         ],
         "yaxis": "y5"
        },
        {
         "alignmentgroup": "True",
         "hovertemplate": "Dataset=NWPU-RESISC45<br>Stage=1<br>Architecture=%{x}<br>Training time=%{y}<extra></extra>",
         "legendgroup": "NWPU-RESISC45",
         "marker": {
          "color": "#EF553B"
         },
         "name": "NWPU-RESISC45",
         "offsetgroup": "NWPU-RESISC45",
         "orientation": "v",
         "showlegend": true,
         "textposition": "auto",
         "type": "bar",
         "x": [
          "InceptionResNetV2",
          "InceptionV3",
          "ResNet152"
         ],
         "xaxis": "x",
         "y": [
          41.42029424773323,
          44.28885510894987,
          42.71030999157163
         ],
         "yaxis": "y"
        },
        {
         "alignmentgroup": "True",
         "hovertemplate": "Dataset=NWPU-RESISC45<br>Stage=2<br>Architecture=%{x}<br>Training time=%{y}<extra></extra>",
         "legendgroup": "NWPU-RESISC45",
         "marker": {
          "color": "#EF553B"
         },
         "name": "NWPU-RESISC45",
         "offsetgroup": "NWPU-RESISC45",
         "orientation": "v",
         "showlegend": false,
         "textposition": "auto",
         "type": "bar",
         "x": [
          "InceptionResNetV2",
          "InceptionV3",
          "ResNet152"
         ],
         "xaxis": "x2",
         "y": [
          52.19797367784711,
          54.519782626628874,
          51.02482651472092
         ],
         "yaxis": "y2"
        },
        {
         "alignmentgroup": "True",
         "hovertemplate": "Dataset=NWPU-RESISC45<br>Stage=3<br>Architecture=%{x}<br>Training time=%{y}<extra></extra>",
         "legendgroup": "NWPU-RESISC45",
         "marker": {
          "color": "#EF553B"
         },
         "name": "NWPU-RESISC45",
         "offsetgroup": "NWPU-RESISC45",
         "orientation": "v",
         "showlegend": false,
         "textposition": "auto",
         "type": "bar",
         "x": [
          "InceptionResNetV2",
          "InceptionV3",
          "ResNet152"
         ],
         "xaxis": "x3",
         "y": [
          55.38031975560718,
          75.83805135488511,
          57.38623524506886
         ],
         "yaxis": "y3"
        },
        {
         "alignmentgroup": "True",
         "hovertemplate": "Dataset=NWPU-RESISC45<br>Stage=4<br>Architecture=%{x}<br>Training time=%{y}<extra></extra>",
         "legendgroup": "NWPU-RESISC45",
         "marker": {
          "color": "#EF553B"
         },
         "name": "NWPU-RESISC45",
         "offsetgroup": "NWPU-RESISC45",
         "orientation": "v",
         "showlegend": false,
         "textposition": "auto",
         "type": "bar",
         "x": [
          "InceptionResNetV2",
          "InceptionV3",
          "ResNet152"
         ],
         "xaxis": "x4",
         "y": [
          66.19845296144486,
          67.24679196543163,
          76.99822203185823
         ],
         "yaxis": "y4"
        },
        {
         "alignmentgroup": "True",
         "hovertemplate": "Dataset=NWPU-RESISC45<br>Stage=5<br>Architecture=%{x}<br>Training time=%{y}<extra></extra>",
         "legendgroup": "NWPU-RESISC45",
         "marker": {
          "color": "#EF553B"
         },
         "name": "NWPU-RESISC45",
         "offsetgroup": "NWPU-RESISC45",
         "orientation": "v",
         "showlegend": false,
         "textposition": "auto",
         "type": "bar",
         "x": [
          "InceptionResNetV2",
          "InceptionV3",
          "ResNet152"
         ],
         "xaxis": "x5",
         "y": [
          74.63927196860314,
          81.21936569015185,
          81.2356971303622
         ],
         "yaxis": "y5"
        },
        {
         "alignmentgroup": "True",
         "hovertemplate": "Dataset=WHU-RS19<br>Stage=1<br>Architecture=%{x}<br>Training time=%{y}<extra></extra>",
         "legendgroup": "WHU-RS19",
         "marker": {
          "color": "#00cc96"
         },
         "name": "WHU-RS19",
         "offsetgroup": "WHU-RS19",
         "orientation": "v",
         "showlegend": true,
         "textposition": "auto",
         "type": "bar",
         "x": [
          "InceptionResNetV2",
          "InceptionV3",
          "ResNet152"
         ],
         "xaxis": "x",
         "y": [
          9.514642504851023,
          7.637257810433706,
          8.935570684075358
         ],
         "yaxis": "y"
        },
        {
         "alignmentgroup": "True",
         "hovertemplate": "Dataset=WHU-RS19<br>Stage=2<br>Architecture=%{x}<br>Training time=%{y}<extra></extra>",
         "legendgroup": "WHU-RS19",
         "marker": {
          "color": "#00cc96"
         },
         "name": "WHU-RS19",
         "offsetgroup": "WHU-RS19",
         "orientation": "v",
         "showlegend": false,
         "textposition": "auto",
         "type": "bar",
         "x": [
          "InceptionResNetV2",
          "InceptionV3",
          "ResNet152"
         ],
         "xaxis": "x2",
         "y": [
          12.67300650080045,
          10.910843941569327,
          11.836620373527209
         ],
         "yaxis": "y2"
        },
        {
         "alignmentgroup": "True",
         "hovertemplate": "Dataset=WHU-RS19<br>Stage=3<br>Architecture=%{x}<br>Training time=%{y}<extra></extra>",
         "legendgroup": "WHU-RS19",
         "marker": {
          "color": "#00cc96"
         },
         "name": "WHU-RS19",
         "offsetgroup": "WHU-RS19",
         "orientation": "v",
         "showlegend": false,
         "textposition": "auto",
         "type": "bar",
         "x": [
          "InceptionResNetV2",
          "InceptionV3",
          "ResNet152"
         ],
         "xaxis": "x3",
         "y": [
          15.134432252248127,
          15.472423683603603,
          14.630511193474135
         ],
         "yaxis": "y3"
        },
        {
         "alignmentgroup": "True",
         "hovertemplate": "Dataset=WHU-RS19<br>Stage=4<br>Architecture=%{x}<br>Training time=%{y}<extra></extra>",
         "legendgroup": "WHU-RS19",
         "marker": {
          "color": "#00cc96"
         },
         "name": "WHU-RS19",
         "offsetgroup": "WHU-RS19",
         "orientation": "v",
         "showlegend": false,
         "textposition": "auto",
         "type": "bar",
         "x": [
          "InceptionResNetV2",
          "InceptionV3",
          "ResNet152"
         ],
         "xaxis": "x4",
         "y": [
          17.99570581217607,
          19.81120791534583,
          14.728235983848572
         ],
         "yaxis": "y4"
        },
        {
         "alignmentgroup": "True",
         "hovertemplate": "Dataset=WHU-RS19<br>Stage=5<br>Architecture=%{x}<br>Training time=%{y}<extra></extra>",
         "legendgroup": "WHU-RS19",
         "marker": {
          "color": "#00cc96"
         },
         "name": "WHU-RS19",
         "offsetgroup": "WHU-RS19",
         "orientation": "v",
         "showlegend": false,
         "textposition": "auto",
         "type": "bar",
         "x": [
          "InceptionResNetV2",
          "InceptionV3",
          "ResNet152"
         ],
         "xaxis": "x5",
         "y": [
          20.026975615819296,
          23.35355000992616,
          14.647604376077652
         ],
         "yaxis": "y5"
        },
        {
         "alignmentgroup": "True",
         "hovertemplate": "Dataset=UCMerced<br>Stage=1<br>Architecture=%{x}<br>Training time=%{y}<extra></extra>",
         "legendgroup": "UCMerced",
         "marker": {
          "color": "#ab63fa"
         },
         "name": "UCMerced",
         "offsetgroup": "UCMerced",
         "orientation": "v",
         "showlegend": true,
         "textposition": "auto",
         "type": "bar",
         "x": [
          "InceptionResNetV2",
          "InceptionV3",
          "ResNet152"
         ],
         "xaxis": "x",
         "y": [
          9.236815895636877,
          6.899043037494023,
          10.242100680867832
         ],
         "yaxis": "y"
        },
        {
         "alignmentgroup": "True",
         "hovertemplate": "Dataset=UCMerced<br>Stage=2<br>Architecture=%{x}<br>Training time=%{y}<extra></extra>",
         "legendgroup": "UCMerced",
         "marker": {
          "color": "#ab63fa"
         },
         "name": "UCMerced",
         "offsetgroup": "UCMerced",
         "orientation": "v",
         "showlegend": false,
         "textposition": "auto",
         "type": "bar",
         "x": [
          "InceptionResNetV2",
          "InceptionV3",
          "ResNet152"
         ],
         "xaxis": "x2",
         "y": [
          12.451955697933833,
          9.687428555885951,
          13.602112918098769
         ],
         "yaxis": "y2"
        },
        {
         "alignmentgroup": "True",
         "hovertemplate": "Dataset=UCMerced<br>Stage=3<br>Architecture=%{x}<br>Training time=%{y}<extra></extra>",
         "legendgroup": "UCMerced",
         "marker": {
          "color": "#ab63fa"
         },
         "name": "UCMerced",
         "offsetgroup": "UCMerced",
         "orientation": "v",
         "showlegend": false,
         "textposition": "auto",
         "type": "bar",
         "x": [
          "InceptionResNetV2",
          "InceptionV3",
          "ResNet152"
         ],
         "xaxis": "x3",
         "y": [
          15.57251731256644,
          13.36519840757052,
          13.380312062303226
         ],
         "yaxis": "y3"
        },
        {
         "alignmentgroup": "True",
         "hovertemplate": "Dataset=UCMerced<br>Stage=4<br>Architecture=%{x}<br>Training time=%{y}<extra></extra>",
         "legendgroup": "UCMerced",
         "marker": {
          "color": "#ab63fa"
         },
         "name": "UCMerced",
         "offsetgroup": "UCMerced",
         "orientation": "v",
         "showlegend": false,
         "textposition": "auto",
         "type": "bar",
         "x": [
          "InceptionResNetV2",
          "InceptionV3",
          "ResNet152"
         ],
         "xaxis": "x4",
         "y": [
          16.835023482640583,
          16.122160571813584,
          19.538214480876924
         ],
         "yaxis": "y4"
        },
        {
         "alignmentgroup": "True",
         "hovertemplate": "Dataset=UCMerced<br>Stage=5<br>Architecture=%{x}<br>Training time=%{y}<extra></extra>",
         "legendgroup": "UCMerced",
         "marker": {
          "color": "#ab63fa"
         },
         "name": "UCMerced",
         "offsetgroup": "UCMerced",
         "orientation": "v",
         "showlegend": false,
         "textposition": "auto",
         "type": "bar",
         "x": [
          "InceptionResNetV2",
          "InceptionV3",
          "ResNet152"
         ],
         "xaxis": "x5",
         "y": [
          17.795319410165153,
          20.272688182195026,
          19.547361557682354
         ],
         "yaxis": "y5"
        }
       ],
       "layout": {
        "annotations": [
         {
          "font": {},
          "showarrow": false,
          "text": "Stage=1",
          "x": 0.09200000000000001,
          "xanchor": "center",
          "xref": "paper",
          "y": 1,
          "yanchor": "bottom",
          "yref": "paper"
         },
         {
          "font": {},
          "showarrow": false,
          "text": "Stage=2",
          "x": 0.29600000000000004,
          "xanchor": "center",
          "xref": "paper",
          "y": 1,
          "yanchor": "bottom",
          "yref": "paper"
         },
         {
          "font": {},
          "showarrow": false,
          "text": "Stage=3",
          "x": 0.5,
          "xanchor": "center",
          "xref": "paper",
          "y": 1,
          "yanchor": "bottom",
          "yref": "paper"
         },
         {
          "font": {},
          "showarrow": false,
          "text": "Stage=4",
          "x": 0.7040000000000002,
          "xanchor": "center",
          "xref": "paper",
          "y": 1,
          "yanchor": "bottom",
          "yref": "paper"
         },
         {
          "font": {},
          "showarrow": false,
          "text": "Stage=5",
          "x": 0.908,
          "xanchor": "center",
          "xref": "paper",
          "y": 1,
          "yanchor": "bottom",
          "yref": "paper"
         }
        ],
        "barmode": "group",
        "legend": {
         "title": {
          "text": "Dataset"
         },
         "tracegroupgap": 0
        },
        "margin": {
         "t": 60
        },
        "template": {
         "data": {
          "bar": [
           {
            "error_x": {
             "color": "#2a3f5f"
            },
            "error_y": {
             "color": "#2a3f5f"
            },
            "marker": {
             "line": {
              "color": "#E5ECF6",
              "width": 0.5
             }
            },
            "type": "bar"
           }
          ],
          "barpolar": [
           {
            "marker": {
             "line": {
              "color": "#E5ECF6",
              "width": 0.5
             }
            },
            "type": "barpolar"
           }
          ],
          "carpet": [
           {
            "aaxis": {
             "endlinecolor": "#2a3f5f",
             "gridcolor": "white",
             "linecolor": "white",
             "minorgridcolor": "white",
             "startlinecolor": "#2a3f5f"
            },
            "baxis": {
             "endlinecolor": "#2a3f5f",
             "gridcolor": "white",
             "linecolor": "white",
             "minorgridcolor": "white",
             "startlinecolor": "#2a3f5f"
            },
            "type": "carpet"
           }
          ],
          "choropleth": [
           {
            "colorbar": {
             "outlinewidth": 0,
             "ticks": ""
            },
            "type": "choropleth"
           }
          ],
          "contour": [
           {
            "colorbar": {
             "outlinewidth": 0,
             "ticks": ""
            },
            "colorscale": [
             [
              0,
              "#0d0887"
             ],
             [
              0.1111111111111111,
              "#46039f"
             ],
             [
              0.2222222222222222,
              "#7201a8"
             ],
             [
              0.3333333333333333,
              "#9c179e"
             ],
             [
              0.4444444444444444,
              "#bd3786"
             ],
             [
              0.5555555555555556,
              "#d8576b"
             ],
             [
              0.6666666666666666,
              "#ed7953"
             ],
             [
              0.7777777777777778,
              "#fb9f3a"
             ],
             [
              0.8888888888888888,
              "#fdca26"
             ],
             [
              1,
              "#f0f921"
             ]
            ],
            "type": "contour"
           }
          ],
          "contourcarpet": [
           {
            "colorbar": {
             "outlinewidth": 0,
             "ticks": ""
            },
            "type": "contourcarpet"
           }
          ],
          "heatmap": [
           {
            "colorbar": {
             "outlinewidth": 0,
             "ticks": ""
            },
            "colorscale": [
             [
              0,
              "#0d0887"
             ],
             [
              0.1111111111111111,
              "#46039f"
             ],
             [
              0.2222222222222222,
              "#7201a8"
             ],
             [
              0.3333333333333333,
              "#9c179e"
             ],
             [
              0.4444444444444444,
              "#bd3786"
             ],
             [
              0.5555555555555556,
              "#d8576b"
             ],
             [
              0.6666666666666666,
              "#ed7953"
             ],
             [
              0.7777777777777778,
              "#fb9f3a"
             ],
             [
              0.8888888888888888,
              "#fdca26"
             ],
             [
              1,
              "#f0f921"
             ]
            ],
            "type": "heatmap"
           }
          ],
          "heatmapgl": [
           {
            "colorbar": {
             "outlinewidth": 0,
             "ticks": ""
            },
            "colorscale": [
             [
              0,
              "#0d0887"
             ],
             [
              0.1111111111111111,
              "#46039f"
             ],
             [
              0.2222222222222222,
              "#7201a8"
             ],
             [
              0.3333333333333333,
              "#9c179e"
             ],
             [
              0.4444444444444444,
              "#bd3786"
             ],
             [
              0.5555555555555556,
              "#d8576b"
             ],
             [
              0.6666666666666666,
              "#ed7953"
             ],
             [
              0.7777777777777778,
              "#fb9f3a"
             ],
             [
              0.8888888888888888,
              "#fdca26"
             ],
             [
              1,
              "#f0f921"
             ]
            ],
            "type": "heatmapgl"
           }
          ],
          "histogram": [
           {
            "marker": {
             "colorbar": {
              "outlinewidth": 0,
              "ticks": ""
             }
            },
            "type": "histogram"
           }
          ],
          "histogram2d": [
           {
            "colorbar": {
             "outlinewidth": 0,
             "ticks": ""
            },
            "colorscale": [
             [
              0,
              "#0d0887"
             ],
             [
              0.1111111111111111,
              "#46039f"
             ],
             [
              0.2222222222222222,
              "#7201a8"
             ],
             [
              0.3333333333333333,
              "#9c179e"
             ],
             [
              0.4444444444444444,
              "#bd3786"
             ],
             [
              0.5555555555555556,
              "#d8576b"
             ],
             [
              0.6666666666666666,
              "#ed7953"
             ],
             [
              0.7777777777777778,
              "#fb9f3a"
             ],
             [
              0.8888888888888888,
              "#fdca26"
             ],
             [
              1,
              "#f0f921"
             ]
            ],
            "type": "histogram2d"
           }
          ],
          "histogram2dcontour": [
           {
            "colorbar": {
             "outlinewidth": 0,
             "ticks": ""
            },
            "colorscale": [
             [
              0,
              "#0d0887"
             ],
             [
              0.1111111111111111,
              "#46039f"
             ],
             [
              0.2222222222222222,
              "#7201a8"
             ],
             [
              0.3333333333333333,
              "#9c179e"
             ],
             [
              0.4444444444444444,
              "#bd3786"
             ],
             [
              0.5555555555555556,
              "#d8576b"
             ],
             [
              0.6666666666666666,
              "#ed7953"
             ],
             [
              0.7777777777777778,
              "#fb9f3a"
             ],
             [
              0.8888888888888888,
              "#fdca26"
             ],
             [
              1,
              "#f0f921"
             ]
            ],
            "type": "histogram2dcontour"
           }
          ],
          "mesh3d": [
           {
            "colorbar": {
             "outlinewidth": 0,
             "ticks": ""
            },
            "type": "mesh3d"
           }
          ],
          "parcoords": [
           {
            "line": {
             "colorbar": {
              "outlinewidth": 0,
              "ticks": ""
             }
            },
            "type": "parcoords"
           }
          ],
          "pie": [
           {
            "automargin": true,
            "type": "pie"
           }
          ],
          "scatter": [
           {
            "marker": {
             "colorbar": {
              "outlinewidth": 0,
              "ticks": ""
             }
            },
            "type": "scatter"
           }
          ],
          "scatter3d": [
           {
            "line": {
             "colorbar": {
              "outlinewidth": 0,
              "ticks": ""
             }
            },
            "marker": {
             "colorbar": {
              "outlinewidth": 0,
              "ticks": ""
             }
            },
            "type": "scatter3d"
           }
          ],
          "scattercarpet": [
           {
            "marker": {
             "colorbar": {
              "outlinewidth": 0,
              "ticks": ""
             }
            },
            "type": "scattercarpet"
           }
          ],
          "scattergeo": [
           {
            "marker": {
             "colorbar": {
              "outlinewidth": 0,
              "ticks": ""
             }
            },
            "type": "scattergeo"
           }
          ],
          "scattergl": [
           {
            "marker": {
             "colorbar": {
              "outlinewidth": 0,
              "ticks": ""
             }
            },
            "type": "scattergl"
           }
          ],
          "scattermapbox": [
           {
            "marker": {
             "colorbar": {
              "outlinewidth": 0,
              "ticks": ""
             }
            },
            "type": "scattermapbox"
           }
          ],
          "scatterpolar": [
           {
            "marker": {
             "colorbar": {
              "outlinewidth": 0,
              "ticks": ""
             }
            },
            "type": "scatterpolar"
           }
          ],
          "scatterpolargl": [
           {
            "marker": {
             "colorbar": {
              "outlinewidth": 0,
              "ticks": ""
             }
            },
            "type": "scatterpolargl"
           }
          ],
          "scatterternary": [
           {
            "marker": {
             "colorbar": {
              "outlinewidth": 0,
              "ticks": ""
             }
            },
            "type": "scatterternary"
           }
          ],
          "surface": [
           {
            "colorbar": {
             "outlinewidth": 0,
             "ticks": ""
            },
            "colorscale": [
             [
              0,
              "#0d0887"
             ],
             [
              0.1111111111111111,
              "#46039f"
             ],
             [
              0.2222222222222222,
              "#7201a8"
             ],
             [
              0.3333333333333333,
              "#9c179e"
             ],
             [
              0.4444444444444444,
              "#bd3786"
             ],
             [
              0.5555555555555556,
              "#d8576b"
             ],
             [
              0.6666666666666666,
              "#ed7953"
             ],
             [
              0.7777777777777778,
              "#fb9f3a"
             ],
             [
              0.8888888888888888,
              "#fdca26"
             ],
             [
              1,
              "#f0f921"
             ]
            ],
            "type": "surface"
           }
          ],
          "table": [
           {
            "cells": {
             "fill": {
              "color": "#EBF0F8"
             },
             "line": {
              "color": "white"
             }
            },
            "header": {
             "fill": {
              "color": "#C8D4E3"
             },
             "line": {
              "color": "white"
             }
            },
            "type": "table"
           }
          ]
         },
         "layout": {
          "annotationdefaults": {
           "arrowcolor": "#2a3f5f",
           "arrowhead": 0,
           "arrowwidth": 1
          },
          "coloraxis": {
           "colorbar": {
            "outlinewidth": 0,
            "ticks": ""
           }
          },
          "colorscale": {
           "diverging": [
            [
             0,
             "#8e0152"
            ],
            [
             0.1,
             "#c51b7d"
            ],
            [
             0.2,
             "#de77ae"
            ],
            [
             0.3,
             "#f1b6da"
            ],
            [
             0.4,
             "#fde0ef"
            ],
            [
             0.5,
             "#f7f7f7"
            ],
            [
             0.6,
             "#e6f5d0"
            ],
            [
             0.7,
             "#b8e186"
            ],
            [
             0.8,
             "#7fbc41"
            ],
            [
             0.9,
             "#4d9221"
            ],
            [
             1,
             "#276419"
            ]
           ],
           "sequential": [
            [
             0,
             "#0d0887"
            ],
            [
             0.1111111111111111,
             "#46039f"
            ],
            [
             0.2222222222222222,
             "#7201a8"
            ],
            [
             0.3333333333333333,
             "#9c179e"
            ],
            [
             0.4444444444444444,
             "#bd3786"
            ],
            [
             0.5555555555555556,
             "#d8576b"
            ],
            [
             0.6666666666666666,
             "#ed7953"
            ],
            [
             0.7777777777777778,
             "#fb9f3a"
            ],
            [
             0.8888888888888888,
             "#fdca26"
            ],
            [
             1,
             "#f0f921"
            ]
           ],
           "sequentialminus": [
            [
             0,
             "#0d0887"
            ],
            [
             0.1111111111111111,
             "#46039f"
            ],
            [
             0.2222222222222222,
             "#7201a8"
            ],
            [
             0.3333333333333333,
             "#9c179e"
            ],
            [
             0.4444444444444444,
             "#bd3786"
            ],
            [
             0.5555555555555556,
             "#d8576b"
            ],
            [
             0.6666666666666666,
             "#ed7953"
            ],
            [
             0.7777777777777778,
             "#fb9f3a"
            ],
            [
             0.8888888888888888,
             "#fdca26"
            ],
            [
             1,
             "#f0f921"
            ]
           ]
          },
          "colorway": [
           "#636efa",
           "#EF553B",
           "#00cc96",
           "#ab63fa",
           "#FFA15A",
           "#19d3f3",
           "#FF6692",
           "#B6E880",
           "#FF97FF",
           "#FECB52"
          ],
          "font": {
           "color": "#2a3f5f"
          },
          "geo": {
           "bgcolor": "white",
           "lakecolor": "white",
           "landcolor": "#E5ECF6",
           "showlakes": true,
           "showland": true,
           "subunitcolor": "white"
          },
          "hoverlabel": {
           "align": "left"
          },
          "hovermode": "closest",
          "mapbox": {
           "style": "light"
          },
          "paper_bgcolor": "white",
          "plot_bgcolor": "#E5ECF6",
          "polar": {
           "angularaxis": {
            "gridcolor": "white",
            "linecolor": "white",
            "ticks": ""
           },
           "bgcolor": "#E5ECF6",
           "radialaxis": {
            "gridcolor": "white",
            "linecolor": "white",
            "ticks": ""
           }
          },
          "scene": {
           "xaxis": {
            "backgroundcolor": "#E5ECF6",
            "gridcolor": "white",
            "gridwidth": 2,
            "linecolor": "white",
            "showbackground": true,
            "ticks": "",
            "zerolinecolor": "white"
           },
           "yaxis": {
            "backgroundcolor": "#E5ECF6",
            "gridcolor": "white",
            "gridwidth": 2,
            "linecolor": "white",
            "showbackground": true,
            "ticks": "",
            "zerolinecolor": "white"
           },
           "zaxis": {
            "backgroundcolor": "#E5ECF6",
            "gridcolor": "white",
            "gridwidth": 2,
            "linecolor": "white",
            "showbackground": true,
            "ticks": "",
            "zerolinecolor": "white"
           }
          },
          "shapedefaults": {
           "line": {
            "color": "#2a3f5f"
           }
          },
          "ternary": {
           "aaxis": {
            "gridcolor": "white",
            "linecolor": "white",
            "ticks": ""
           },
           "baxis": {
            "gridcolor": "white",
            "linecolor": "white",
            "ticks": ""
           },
           "bgcolor": "#E5ECF6",
           "caxis": {
            "gridcolor": "white",
            "linecolor": "white",
            "ticks": ""
           }
          },
          "title": {
           "x": 0.05
          },
          "xaxis": {
           "automargin": true,
           "gridcolor": "white",
           "linecolor": "white",
           "ticks": "",
           "title": {
            "standoff": 15
           },
           "zerolinecolor": "white",
           "zerolinewidth": 2
          },
          "yaxis": {
           "automargin": true,
           "gridcolor": "white",
           "linecolor": "white",
           "ticks": "",
           "title": {
            "standoff": 15
           },
           "zerolinecolor": "white",
           "zerolinewidth": 2
          }
         }
        },
        "xaxis": {
         "anchor": "y",
         "domain": [
          0,
          0.18400000000000002
         ],
         "title": {
          "text": "Architecture"
         }
        },
        "xaxis2": {
         "anchor": "y2",
         "domain": [
          0.20400000000000001,
          0.388
         ],
         "matches": "x",
         "title": {
          "text": "Architecture"
         }
        },
        "xaxis3": {
         "anchor": "y3",
         "domain": [
          0.40800000000000003,
          0.5920000000000001
         ],
         "matches": "x",
         "title": {
          "text": "Architecture"
         }
        },
        "xaxis4": {
         "anchor": "y4",
         "domain": [
          0.6120000000000001,
          0.7960000000000002
         ],
         "matches": "x",
         "title": {
          "text": "Architecture"
         }
        },
        "xaxis5": {
         "anchor": "y5",
         "domain": [
          0.8160000000000001,
          1
         ],
         "matches": "x",
         "title": {
          "text": "Architecture"
         }
        },
        "yaxis": {
         "anchor": "x",
         "domain": [
          0,
          1
         ],
         "title": {
          "text": "Training time"
         }
        },
        "yaxis2": {
         "anchor": "x2",
         "domain": [
          0,
          1
         ],
         "matches": "y",
         "showticklabels": false
        },
        "yaxis3": {
         "anchor": "x3",
         "domain": [
          0,
          1
         ],
         "matches": "y",
         "showticklabels": false
        },
        "yaxis4": {
         "anchor": "x4",
         "domain": [
          0,
          1
         ],
         "matches": "y",
         "showticklabels": false
        },
        "yaxis5": {
         "anchor": "x5",
         "domain": [
          0,
          1
         ],
         "matches": "y",
         "showticklabels": false
        }
       }
      },
      "text/html": [
       "<div>\n",
       "        \n",
       "        \n",
       "            <div id=\"17f5b80d-9bde-42ea-be54-aa99e4d4bd50\" class=\"plotly-graph-div\" style=\"height:525px; width:100%;\"></div>\n",
       "            <script type=\"text/javascript\">\n",
       "                require([\"plotly\"], function(Plotly) {\n",
       "                    window.PLOTLYENV=window.PLOTLYENV || {};\n",
       "                    \n",
       "                if (document.getElementById(\"17f5b80d-9bde-42ea-be54-aa99e4d4bd50\")) {\n",
       "                    Plotly.newPlot(\n",
       "                        '17f5b80d-9bde-42ea-be54-aa99e4d4bd50',\n",
       "                        [{\"alignmentgroup\": \"True\", \"hovertemplate\": \"Dataset=AID<br>Stage=1<br>Architecture=%{x}<br>Training time=%{y}<extra></extra>\", \"legendgroup\": \"AID\", \"marker\": {\"color\": \"#636efa\"}, \"name\": \"AID\", \"offsetgroup\": \"AID\", \"orientation\": \"v\", \"showlegend\": true, \"textposition\": \"auto\", \"type\": \"bar\", \"x\": [\"InceptionResNetV2\", \"InceptionV3\", \"ResNet152\"], \"xaxis\": \"x\", \"y\": [23.41999509334564, 24.208249999086064, 22.083499761422473], \"yaxis\": \"y\"}, {\"alignmentgroup\": \"True\", \"hovertemplate\": \"Dataset=AID<br>Stage=2<br>Architecture=%{x}<br>Training time=%{y}<extra></extra>\", \"legendgroup\": \"AID\", \"marker\": {\"color\": \"#636efa\"}, \"name\": \"AID\", \"offsetgroup\": \"AID\", \"orientation\": \"v\", \"showlegend\": false, \"textposition\": \"auto\", \"type\": \"bar\", \"x\": [\"InceptionResNetV2\", \"InceptionV3\", \"ResNet152\"], \"xaxis\": \"x2\", \"y\": [26.032265866796173, 33.01664507389069, 24.048677988847096], \"yaxis\": \"y2\"}, {\"alignmentgroup\": \"True\", \"hovertemplate\": \"Dataset=AID<br>Stage=3<br>Architecture=%{x}<br>Training time=%{y}<extra></extra>\", \"legendgroup\": \"AID\", \"marker\": {\"color\": \"#636efa\"}, \"name\": \"AID\", \"offsetgroup\": \"AID\", \"orientation\": \"v\", \"showlegend\": false, \"textposition\": \"auto\", \"type\": \"bar\", \"x\": [\"InceptionResNetV2\", \"InceptionV3\", \"ResNet152\"], \"xaxis\": \"x3\", \"y\": [30.749319839477536, 44.31159656643868, 26.62308113873005], \"yaxis\": \"y3\"}, {\"alignmentgroup\": \"True\", \"hovertemplate\": \"Dataset=AID<br>Stage=4<br>Architecture=%{x}<br>Training time=%{y}<extra></extra>\", \"legendgroup\": \"AID\", \"marker\": {\"color\": \"#636efa\"}, \"name\": \"AID\", \"offsetgroup\": \"AID\", \"orientation\": \"v\", \"showlegend\": false, \"textposition\": \"auto\", \"type\": \"bar\", \"x\": [\"InceptionResNetV2\", \"InceptionV3\", \"ResNet152\"], \"xaxis\": \"x4\", \"y\": [39.772300280133884, 47.948646432161325, 37.17627405921618], \"yaxis\": \"y4\"}, {\"alignmentgroup\": \"True\", \"hovertemplate\": \"Dataset=AID<br>Stage=5<br>Architecture=%{x}<br>Training time=%{y}<extra></extra>\", \"legendgroup\": \"AID\", \"marker\": {\"color\": \"#636efa\"}, \"name\": \"AID\", \"offsetgroup\": \"AID\", \"orientation\": \"v\", \"showlegend\": false, \"textposition\": \"auto\", \"type\": \"bar\", \"x\": [\"InceptionResNetV2\", \"InceptionV3\", \"ResNet152\"], \"xaxis\": \"x5\", \"y\": [40.9417165517807, 45.975700098276135, 33.66415913502375], \"yaxis\": \"y5\"}, {\"alignmentgroup\": \"True\", \"hovertemplate\": \"Dataset=NWPU-RESISC45<br>Stage=1<br>Architecture=%{x}<br>Training time=%{y}<extra></extra>\", \"legendgroup\": \"NWPU-RESISC45\", \"marker\": {\"color\": \"#EF553B\"}, \"name\": \"NWPU-RESISC45\", \"offsetgroup\": \"NWPU-RESISC45\", \"orientation\": \"v\", \"showlegend\": true, \"textposition\": \"auto\", \"type\": \"bar\", \"x\": [\"InceptionResNetV2\", \"InceptionV3\", \"ResNet152\"], \"xaxis\": \"x\", \"y\": [41.42029424773323, 44.28885510894987, 42.71030999157163], \"yaxis\": \"y\"}, {\"alignmentgroup\": \"True\", \"hovertemplate\": \"Dataset=NWPU-RESISC45<br>Stage=2<br>Architecture=%{x}<br>Training time=%{y}<extra></extra>\", \"legendgroup\": \"NWPU-RESISC45\", \"marker\": {\"color\": \"#EF553B\"}, \"name\": \"NWPU-RESISC45\", \"offsetgroup\": \"NWPU-RESISC45\", \"orientation\": \"v\", \"showlegend\": false, \"textposition\": \"auto\", \"type\": \"bar\", \"x\": [\"InceptionResNetV2\", \"InceptionV3\", \"ResNet152\"], \"xaxis\": \"x2\", \"y\": [52.19797367784711, 54.519782626628874, 51.02482651472092], \"yaxis\": \"y2\"}, {\"alignmentgroup\": \"True\", \"hovertemplate\": \"Dataset=NWPU-RESISC45<br>Stage=3<br>Architecture=%{x}<br>Training time=%{y}<extra></extra>\", \"legendgroup\": \"NWPU-RESISC45\", \"marker\": {\"color\": \"#EF553B\"}, \"name\": \"NWPU-RESISC45\", \"offsetgroup\": \"NWPU-RESISC45\", \"orientation\": \"v\", \"showlegend\": false, \"textposition\": \"auto\", \"type\": \"bar\", \"x\": [\"InceptionResNetV2\", \"InceptionV3\", \"ResNet152\"], \"xaxis\": \"x3\", \"y\": [55.38031975560718, 75.83805135488511, 57.38623524506886], \"yaxis\": \"y3\"}, {\"alignmentgroup\": \"True\", \"hovertemplate\": \"Dataset=NWPU-RESISC45<br>Stage=4<br>Architecture=%{x}<br>Training time=%{y}<extra></extra>\", \"legendgroup\": \"NWPU-RESISC45\", \"marker\": {\"color\": \"#EF553B\"}, \"name\": \"NWPU-RESISC45\", \"offsetgroup\": \"NWPU-RESISC45\", \"orientation\": \"v\", \"showlegend\": false, \"textposition\": \"auto\", \"type\": \"bar\", \"x\": [\"InceptionResNetV2\", \"InceptionV3\", \"ResNet152\"], \"xaxis\": \"x4\", \"y\": [66.19845296144486, 67.24679196543163, 76.99822203185823], \"yaxis\": \"y4\"}, {\"alignmentgroup\": \"True\", \"hovertemplate\": \"Dataset=NWPU-RESISC45<br>Stage=5<br>Architecture=%{x}<br>Training time=%{y}<extra></extra>\", \"legendgroup\": \"NWPU-RESISC45\", \"marker\": {\"color\": \"#EF553B\"}, \"name\": \"NWPU-RESISC45\", \"offsetgroup\": \"NWPU-RESISC45\", \"orientation\": \"v\", \"showlegend\": false, \"textposition\": \"auto\", \"type\": \"bar\", \"x\": [\"InceptionResNetV2\", \"InceptionV3\", \"ResNet152\"], \"xaxis\": \"x5\", \"y\": [74.63927196860314, 81.21936569015185, 81.2356971303622], \"yaxis\": \"y5\"}, {\"alignmentgroup\": \"True\", \"hovertemplate\": \"Dataset=WHU-RS19<br>Stage=1<br>Architecture=%{x}<br>Training time=%{y}<extra></extra>\", \"legendgroup\": \"WHU-RS19\", \"marker\": {\"color\": \"#00cc96\"}, \"name\": \"WHU-RS19\", \"offsetgroup\": \"WHU-RS19\", \"orientation\": \"v\", \"showlegend\": true, \"textposition\": \"auto\", \"type\": \"bar\", \"x\": [\"InceptionResNetV2\", \"InceptionV3\", \"ResNet152\"], \"xaxis\": \"x\", \"y\": [9.514642504851023, 7.637257810433706, 8.935570684075358], \"yaxis\": \"y\"}, {\"alignmentgroup\": \"True\", \"hovertemplate\": \"Dataset=WHU-RS19<br>Stage=2<br>Architecture=%{x}<br>Training time=%{y}<extra></extra>\", \"legendgroup\": \"WHU-RS19\", \"marker\": {\"color\": \"#00cc96\"}, \"name\": \"WHU-RS19\", \"offsetgroup\": \"WHU-RS19\", \"orientation\": \"v\", \"showlegend\": false, \"textposition\": \"auto\", \"type\": \"bar\", \"x\": [\"InceptionResNetV2\", \"InceptionV3\", \"ResNet152\"], \"xaxis\": \"x2\", \"y\": [12.67300650080045, 10.910843941569327, 11.836620373527209], \"yaxis\": \"y2\"}, {\"alignmentgroup\": \"True\", \"hovertemplate\": \"Dataset=WHU-RS19<br>Stage=3<br>Architecture=%{x}<br>Training time=%{y}<extra></extra>\", \"legendgroup\": \"WHU-RS19\", \"marker\": {\"color\": \"#00cc96\"}, \"name\": \"WHU-RS19\", \"offsetgroup\": \"WHU-RS19\", \"orientation\": \"v\", \"showlegend\": false, \"textposition\": \"auto\", \"type\": \"bar\", \"x\": [\"InceptionResNetV2\", \"InceptionV3\", \"ResNet152\"], \"xaxis\": \"x3\", \"y\": [15.134432252248127, 15.472423683603603, 14.630511193474135], \"yaxis\": \"y3\"}, {\"alignmentgroup\": \"True\", \"hovertemplate\": \"Dataset=WHU-RS19<br>Stage=4<br>Architecture=%{x}<br>Training time=%{y}<extra></extra>\", \"legendgroup\": \"WHU-RS19\", \"marker\": {\"color\": \"#00cc96\"}, \"name\": \"WHU-RS19\", \"offsetgroup\": \"WHU-RS19\", \"orientation\": \"v\", \"showlegend\": false, \"textposition\": \"auto\", \"type\": \"bar\", \"x\": [\"InceptionResNetV2\", \"InceptionV3\", \"ResNet152\"], \"xaxis\": \"x4\", \"y\": [17.99570581217607, 19.81120791534583, 14.728235983848572], \"yaxis\": \"y4\"}, {\"alignmentgroup\": \"True\", \"hovertemplate\": \"Dataset=WHU-RS19<br>Stage=5<br>Architecture=%{x}<br>Training time=%{y}<extra></extra>\", \"legendgroup\": \"WHU-RS19\", \"marker\": {\"color\": \"#00cc96\"}, \"name\": \"WHU-RS19\", \"offsetgroup\": \"WHU-RS19\", \"orientation\": \"v\", \"showlegend\": false, \"textposition\": \"auto\", \"type\": \"bar\", \"x\": [\"InceptionResNetV2\", \"InceptionV3\", \"ResNet152\"], \"xaxis\": \"x5\", \"y\": [20.026975615819296, 23.35355000992616, 14.647604376077652], \"yaxis\": \"y5\"}, {\"alignmentgroup\": \"True\", \"hovertemplate\": \"Dataset=UCMerced<br>Stage=1<br>Architecture=%{x}<br>Training time=%{y}<extra></extra>\", \"legendgroup\": \"UCMerced\", \"marker\": {\"color\": \"#ab63fa\"}, \"name\": \"UCMerced\", \"offsetgroup\": \"UCMerced\", \"orientation\": \"v\", \"showlegend\": true, \"textposition\": \"auto\", \"type\": \"bar\", \"x\": [\"InceptionResNetV2\", \"InceptionV3\", \"ResNet152\"], \"xaxis\": \"x\", \"y\": [9.236815895636877, 6.899043037494023, 10.242100680867832], \"yaxis\": \"y\"}, {\"alignmentgroup\": \"True\", \"hovertemplate\": \"Dataset=UCMerced<br>Stage=2<br>Architecture=%{x}<br>Training time=%{y}<extra></extra>\", \"legendgroup\": \"UCMerced\", \"marker\": {\"color\": \"#ab63fa\"}, \"name\": \"UCMerced\", \"offsetgroup\": \"UCMerced\", \"orientation\": \"v\", \"showlegend\": false, \"textposition\": \"auto\", \"type\": \"bar\", \"x\": [\"InceptionResNetV2\", \"InceptionV3\", \"ResNet152\"], \"xaxis\": \"x2\", \"y\": [12.451955697933833, 9.687428555885951, 13.602112918098769], \"yaxis\": \"y2\"}, {\"alignmentgroup\": \"True\", \"hovertemplate\": \"Dataset=UCMerced<br>Stage=3<br>Architecture=%{x}<br>Training time=%{y}<extra></extra>\", \"legendgroup\": \"UCMerced\", \"marker\": {\"color\": \"#ab63fa\"}, \"name\": \"UCMerced\", \"offsetgroup\": \"UCMerced\", \"orientation\": \"v\", \"showlegend\": false, \"textposition\": \"auto\", \"type\": \"bar\", \"x\": [\"InceptionResNetV2\", \"InceptionV3\", \"ResNet152\"], \"xaxis\": \"x3\", \"y\": [15.57251731256644, 13.36519840757052, 13.380312062303226], \"yaxis\": \"y3\"}, {\"alignmentgroup\": \"True\", \"hovertemplate\": \"Dataset=UCMerced<br>Stage=4<br>Architecture=%{x}<br>Training time=%{y}<extra></extra>\", \"legendgroup\": \"UCMerced\", \"marker\": {\"color\": \"#ab63fa\"}, \"name\": \"UCMerced\", \"offsetgroup\": \"UCMerced\", \"orientation\": \"v\", \"showlegend\": false, \"textposition\": \"auto\", \"type\": \"bar\", \"x\": [\"InceptionResNetV2\", \"InceptionV3\", \"ResNet152\"], \"xaxis\": \"x4\", \"y\": [16.835023482640583, 16.122160571813584, 19.538214480876924], \"yaxis\": \"y4\"}, {\"alignmentgroup\": \"True\", \"hovertemplate\": \"Dataset=UCMerced<br>Stage=5<br>Architecture=%{x}<br>Training time=%{y}<extra></extra>\", \"legendgroup\": \"UCMerced\", \"marker\": {\"color\": \"#ab63fa\"}, \"name\": \"UCMerced\", \"offsetgroup\": \"UCMerced\", \"orientation\": \"v\", \"showlegend\": false, \"textposition\": \"auto\", \"type\": \"bar\", \"x\": [\"InceptionResNetV2\", \"InceptionV3\", \"ResNet152\"], \"xaxis\": \"x5\", \"y\": [17.795319410165153, 20.272688182195026, 19.547361557682354], \"yaxis\": \"y5\"}],\n",
       "                        {\"annotations\": [{\"font\": {}, \"showarrow\": false, \"text\": \"Stage=1\", \"x\": 0.09200000000000001, \"xanchor\": \"center\", \"xref\": \"paper\", \"y\": 1.0, \"yanchor\": \"bottom\", \"yref\": \"paper\"}, {\"font\": {}, \"showarrow\": false, \"text\": \"Stage=2\", \"x\": 0.29600000000000004, \"xanchor\": \"center\", \"xref\": \"paper\", \"y\": 1.0, \"yanchor\": \"bottom\", \"yref\": \"paper\"}, {\"font\": {}, \"showarrow\": false, \"text\": \"Stage=3\", \"x\": 0.5, \"xanchor\": \"center\", \"xref\": \"paper\", \"y\": 1.0, \"yanchor\": \"bottom\", \"yref\": \"paper\"}, {\"font\": {}, \"showarrow\": false, \"text\": \"Stage=4\", \"x\": 0.7040000000000002, \"xanchor\": \"center\", \"xref\": \"paper\", \"y\": 1.0, \"yanchor\": \"bottom\", \"yref\": \"paper\"}, {\"font\": {}, \"showarrow\": false, \"text\": \"Stage=5\", \"x\": 0.908, \"xanchor\": \"center\", \"xref\": \"paper\", \"y\": 1.0, \"yanchor\": \"bottom\", \"yref\": \"paper\"}], \"barmode\": \"group\", \"legend\": {\"title\": {\"text\": \"Dataset\"}, \"tracegroupgap\": 0}, \"margin\": {\"t\": 60}, \"template\": {\"data\": {\"bar\": [{\"error_x\": {\"color\": \"#2a3f5f\"}, \"error_y\": {\"color\": \"#2a3f5f\"}, \"marker\": {\"line\": {\"color\": \"#E5ECF6\", \"width\": 0.5}}, \"type\": \"bar\"}], \"barpolar\": [{\"marker\": {\"line\": {\"color\": \"#E5ECF6\", \"width\": 0.5}}, \"type\": \"barpolar\"}], \"carpet\": [{\"aaxis\": {\"endlinecolor\": \"#2a3f5f\", \"gridcolor\": \"white\", \"linecolor\": \"white\", \"minorgridcolor\": \"white\", \"startlinecolor\": \"#2a3f5f\"}, \"baxis\": {\"endlinecolor\": \"#2a3f5f\", \"gridcolor\": \"white\", \"linecolor\": \"white\", \"minorgridcolor\": \"white\", \"startlinecolor\": \"#2a3f5f\"}, \"type\": \"carpet\"}], \"choropleth\": [{\"colorbar\": {\"outlinewidth\": 0, \"ticks\": \"\"}, \"type\": \"choropleth\"}], \"contour\": [{\"colorbar\": {\"outlinewidth\": 0, \"ticks\": \"\"}, \"colorscale\": [[0.0, \"#0d0887\"], [0.1111111111111111, \"#46039f\"], [0.2222222222222222, \"#7201a8\"], [0.3333333333333333, \"#9c179e\"], [0.4444444444444444, \"#bd3786\"], [0.5555555555555556, \"#d8576b\"], [0.6666666666666666, \"#ed7953\"], [0.7777777777777778, \"#fb9f3a\"], [0.8888888888888888, \"#fdca26\"], [1.0, \"#f0f921\"]], \"type\": \"contour\"}], \"contourcarpet\": [{\"colorbar\": {\"outlinewidth\": 0, \"ticks\": \"\"}, \"type\": \"contourcarpet\"}], \"heatmap\": [{\"colorbar\": {\"outlinewidth\": 0, \"ticks\": \"\"}, \"colorscale\": [[0.0, \"#0d0887\"], [0.1111111111111111, \"#46039f\"], [0.2222222222222222, \"#7201a8\"], [0.3333333333333333, \"#9c179e\"], [0.4444444444444444, \"#bd3786\"], [0.5555555555555556, \"#d8576b\"], [0.6666666666666666, \"#ed7953\"], [0.7777777777777778, \"#fb9f3a\"], [0.8888888888888888, \"#fdca26\"], [1.0, \"#f0f921\"]], \"type\": \"heatmap\"}], \"heatmapgl\": [{\"colorbar\": {\"outlinewidth\": 0, \"ticks\": \"\"}, \"colorscale\": [[0.0, \"#0d0887\"], [0.1111111111111111, \"#46039f\"], [0.2222222222222222, \"#7201a8\"], [0.3333333333333333, \"#9c179e\"], [0.4444444444444444, \"#bd3786\"], [0.5555555555555556, \"#d8576b\"], [0.6666666666666666, \"#ed7953\"], [0.7777777777777778, \"#fb9f3a\"], [0.8888888888888888, \"#fdca26\"], [1.0, \"#f0f921\"]], \"type\": \"heatmapgl\"}], \"histogram\": [{\"marker\": {\"colorbar\": {\"outlinewidth\": 0, \"ticks\": \"\"}}, \"type\": \"histogram\"}], \"histogram2d\": [{\"colorbar\": {\"outlinewidth\": 0, \"ticks\": \"\"}, \"colorscale\": [[0.0, \"#0d0887\"], [0.1111111111111111, \"#46039f\"], [0.2222222222222222, \"#7201a8\"], [0.3333333333333333, \"#9c179e\"], [0.4444444444444444, \"#bd3786\"], [0.5555555555555556, \"#d8576b\"], [0.6666666666666666, \"#ed7953\"], [0.7777777777777778, \"#fb9f3a\"], [0.8888888888888888, \"#fdca26\"], [1.0, \"#f0f921\"]], \"type\": \"histogram2d\"}], \"histogram2dcontour\": [{\"colorbar\": {\"outlinewidth\": 0, \"ticks\": \"\"}, \"colorscale\": [[0.0, \"#0d0887\"], [0.1111111111111111, \"#46039f\"], [0.2222222222222222, \"#7201a8\"], [0.3333333333333333, \"#9c179e\"], [0.4444444444444444, \"#bd3786\"], [0.5555555555555556, \"#d8576b\"], [0.6666666666666666, \"#ed7953\"], [0.7777777777777778, \"#fb9f3a\"], [0.8888888888888888, \"#fdca26\"], [1.0, \"#f0f921\"]], \"type\": \"histogram2dcontour\"}], \"mesh3d\": [{\"colorbar\": {\"outlinewidth\": 0, \"ticks\": \"\"}, \"type\": \"mesh3d\"}], \"parcoords\": [{\"line\": {\"colorbar\": {\"outlinewidth\": 0, \"ticks\": \"\"}}, \"type\": \"parcoords\"}], \"pie\": [{\"automargin\": true, \"type\": \"pie\"}], \"scatter\": [{\"marker\": {\"colorbar\": {\"outlinewidth\": 0, \"ticks\": \"\"}}, \"type\": \"scatter\"}], \"scatter3d\": [{\"line\": {\"colorbar\": {\"outlinewidth\": 0, \"ticks\": \"\"}}, \"marker\": {\"colorbar\": {\"outlinewidth\": 0, \"ticks\": \"\"}}, \"type\": \"scatter3d\"}], \"scattercarpet\": [{\"marker\": {\"colorbar\": {\"outlinewidth\": 0, \"ticks\": \"\"}}, \"type\": \"scattercarpet\"}], \"scattergeo\": [{\"marker\": {\"colorbar\": {\"outlinewidth\": 0, \"ticks\": \"\"}}, \"type\": \"scattergeo\"}], \"scattergl\": [{\"marker\": {\"colorbar\": {\"outlinewidth\": 0, \"ticks\": \"\"}}, \"type\": \"scattergl\"}], \"scattermapbox\": [{\"marker\": {\"colorbar\": {\"outlinewidth\": 0, \"ticks\": \"\"}}, \"type\": \"scattermapbox\"}], \"scatterpolar\": [{\"marker\": {\"colorbar\": {\"outlinewidth\": 0, \"ticks\": \"\"}}, \"type\": \"scatterpolar\"}], \"scatterpolargl\": [{\"marker\": {\"colorbar\": {\"outlinewidth\": 0, \"ticks\": \"\"}}, \"type\": \"scatterpolargl\"}], \"scatterternary\": [{\"marker\": {\"colorbar\": {\"outlinewidth\": 0, \"ticks\": \"\"}}, \"type\": \"scatterternary\"}], \"surface\": [{\"colorbar\": {\"outlinewidth\": 0, \"ticks\": \"\"}, \"colorscale\": [[0.0, \"#0d0887\"], [0.1111111111111111, \"#46039f\"], [0.2222222222222222, \"#7201a8\"], [0.3333333333333333, \"#9c179e\"], [0.4444444444444444, \"#bd3786\"], [0.5555555555555556, \"#d8576b\"], [0.6666666666666666, \"#ed7953\"], [0.7777777777777778, \"#fb9f3a\"], [0.8888888888888888, \"#fdca26\"], [1.0, \"#f0f921\"]], \"type\": \"surface\"}], \"table\": [{\"cells\": {\"fill\": {\"color\": \"#EBF0F8\"}, \"line\": {\"color\": \"white\"}}, \"header\": {\"fill\": {\"color\": \"#C8D4E3\"}, \"line\": {\"color\": \"white\"}}, \"type\": \"table\"}]}, \"layout\": {\"annotationdefaults\": {\"arrowcolor\": \"#2a3f5f\", \"arrowhead\": 0, \"arrowwidth\": 1}, \"coloraxis\": {\"colorbar\": {\"outlinewidth\": 0, \"ticks\": \"\"}}, \"colorscale\": {\"diverging\": [[0, \"#8e0152\"], [0.1, \"#c51b7d\"], [0.2, \"#de77ae\"], [0.3, \"#f1b6da\"], [0.4, \"#fde0ef\"], [0.5, \"#f7f7f7\"], [0.6, \"#e6f5d0\"], [0.7, \"#b8e186\"], [0.8, \"#7fbc41\"], [0.9, \"#4d9221\"], [1, \"#276419\"]], \"sequential\": [[0.0, \"#0d0887\"], [0.1111111111111111, \"#46039f\"], [0.2222222222222222, \"#7201a8\"], [0.3333333333333333, \"#9c179e\"], [0.4444444444444444, \"#bd3786\"], [0.5555555555555556, \"#d8576b\"], [0.6666666666666666, \"#ed7953\"], [0.7777777777777778, \"#fb9f3a\"], [0.8888888888888888, \"#fdca26\"], [1.0, \"#f0f921\"]], \"sequentialminus\": [[0.0, \"#0d0887\"], [0.1111111111111111, \"#46039f\"], [0.2222222222222222, \"#7201a8\"], [0.3333333333333333, \"#9c179e\"], [0.4444444444444444, \"#bd3786\"], [0.5555555555555556, \"#d8576b\"], [0.6666666666666666, \"#ed7953\"], [0.7777777777777778, \"#fb9f3a\"], [0.8888888888888888, \"#fdca26\"], [1.0, \"#f0f921\"]]}, \"colorway\": [\"#636efa\", \"#EF553B\", \"#00cc96\", \"#ab63fa\", \"#FFA15A\", \"#19d3f3\", \"#FF6692\", \"#B6E880\", \"#FF97FF\", \"#FECB52\"], \"font\": {\"color\": \"#2a3f5f\"}, \"geo\": {\"bgcolor\": \"white\", \"lakecolor\": \"white\", \"landcolor\": \"#E5ECF6\", \"showlakes\": true, \"showland\": true, \"subunitcolor\": \"white\"}, \"hoverlabel\": {\"align\": \"left\"}, \"hovermode\": \"closest\", \"mapbox\": {\"style\": \"light\"}, \"paper_bgcolor\": \"white\", \"plot_bgcolor\": \"#E5ECF6\", \"polar\": {\"angularaxis\": {\"gridcolor\": \"white\", \"linecolor\": \"white\", \"ticks\": \"\"}, \"bgcolor\": \"#E5ECF6\", \"radialaxis\": {\"gridcolor\": \"white\", \"linecolor\": \"white\", \"ticks\": \"\"}}, \"scene\": {\"xaxis\": {\"backgroundcolor\": \"#E5ECF6\", \"gridcolor\": \"white\", \"gridwidth\": 2, \"linecolor\": \"white\", \"showbackground\": true, \"ticks\": \"\", \"zerolinecolor\": \"white\"}, \"yaxis\": {\"backgroundcolor\": \"#E5ECF6\", \"gridcolor\": \"white\", \"gridwidth\": 2, \"linecolor\": \"white\", \"showbackground\": true, \"ticks\": \"\", \"zerolinecolor\": \"white\"}, \"zaxis\": {\"backgroundcolor\": \"#E5ECF6\", \"gridcolor\": \"white\", \"gridwidth\": 2, \"linecolor\": \"white\", \"showbackground\": true, \"ticks\": \"\", \"zerolinecolor\": \"white\"}}, \"shapedefaults\": {\"line\": {\"color\": \"#2a3f5f\"}}, \"ternary\": {\"aaxis\": {\"gridcolor\": \"white\", \"linecolor\": \"white\", \"ticks\": \"\"}, \"baxis\": {\"gridcolor\": \"white\", \"linecolor\": \"white\", \"ticks\": \"\"}, \"bgcolor\": \"#E5ECF6\", \"caxis\": {\"gridcolor\": \"white\", \"linecolor\": \"white\", \"ticks\": \"\"}}, \"title\": {\"x\": 0.05}, \"xaxis\": {\"automargin\": true, \"gridcolor\": \"white\", \"linecolor\": \"white\", \"ticks\": \"\", \"title\": {\"standoff\": 15}, \"zerolinecolor\": \"white\", \"zerolinewidth\": 2}, \"yaxis\": {\"automargin\": true, \"gridcolor\": \"white\", \"linecolor\": \"white\", \"ticks\": \"\", \"title\": {\"standoff\": 15}, \"zerolinecolor\": \"white\", \"zerolinewidth\": 2}}}, \"xaxis\": {\"anchor\": \"y\", \"domain\": [0.0, 0.18400000000000002], \"title\": {\"text\": \"Architecture\"}}, \"xaxis2\": {\"anchor\": \"y2\", \"domain\": [0.20400000000000001, 0.388], \"matches\": \"x\", \"title\": {\"text\": \"Architecture\"}}, \"xaxis3\": {\"anchor\": \"y3\", \"domain\": [0.40800000000000003, 0.5920000000000001], \"matches\": \"x\", \"title\": {\"text\": \"Architecture\"}}, \"xaxis4\": {\"anchor\": \"y4\", \"domain\": [0.6120000000000001, 0.7960000000000002], \"matches\": \"x\", \"title\": {\"text\": \"Architecture\"}}, \"xaxis5\": {\"anchor\": \"y5\", \"domain\": [0.8160000000000001, 1.0], \"matches\": \"x\", \"title\": {\"text\": \"Architecture\"}}, \"yaxis\": {\"anchor\": \"x\", \"domain\": [0.0, 1.0], \"title\": {\"text\": \"Training time\"}}, \"yaxis2\": {\"anchor\": \"x2\", \"domain\": [0.0, 1.0], \"matches\": \"y\", \"showticklabels\": false}, \"yaxis3\": {\"anchor\": \"x3\", \"domain\": [0.0, 1.0], \"matches\": \"y\", \"showticklabels\": false}, \"yaxis4\": {\"anchor\": \"x4\", \"domain\": [0.0, 1.0], \"matches\": \"y\", \"showticklabels\": false}, \"yaxis5\": {\"anchor\": \"x5\", \"domain\": [0.0, 1.0], \"matches\": \"y\", \"showticklabels\": false}},\n",
       "                        {\"responsive\": true}\n",
       "                    ).then(function(){\n",
       "                            \n",
       "var gd = document.getElementById('17f5b80d-9bde-42ea-be54-aa99e4d4bd50');\n",
       "var x = new MutationObserver(function (mutations, observer) {{\n",
       "        var display = window.getComputedStyle(gd).display;\n",
       "        if (!display || display === 'none') {{\n",
       "            console.log([gd, 'removed!']);\n",
       "            Plotly.purge(gd);\n",
       "            observer.disconnect();\n",
       "        }}\n",
       "}});\n",
       "\n",
       "// Listen for the removal of the full notebook cells\n",
       "var notebookContainer = gd.closest('#notebook-container');\n",
       "if (notebookContainer) {{\n",
       "    x.observe(notebookContainer, {childList: true});\n",
       "}}\n",
       "\n",
       "// Listen for the clearing of the current output cell\n",
       "var outputEl = gd.closest('.output');\n",
       "if (outputEl) {{\n",
       "    x.observe(outputEl, {childList: true});\n",
       "}}\n",
       "\n",
       "                        })\n",
       "                };\n",
       "                });\n",
       "            </script>\n",
       "        </div>"
      ]
     },
     "metadata": {},
     "output_type": "display_data"
    }
   ],
   "source": [
    "import plotly.express as px\n",
    "fig = px.bar(df_temp, x=\"Architecture\", y=\"Training time\", color=\"Dataset\", barmode=\"group\",\n",
    "             #facet_row=\"iteracion\", facet_col=\"day\",\n",
    "             #facet_col=\"arquitectura\",\n",
    "             facet_col=\"Stage\",\n",
    "             category_orders={\"Arquitecture\": [\"ResNet152\", \"InceptionResNetV2\", \"InceptionV3\"],\n",
    "             #                 \"time\": [\"Lunch\", \"Dinner\"]\n",
    "                             }\n",
    "            )\n",
    "fig.show()"
   ]
  },
  {
   "cell_type": "code",
   "execution_count": 8,
   "metadata": {},
   "outputs": [
    {
     "data": {
      "application/vnd.plotly.v1+json": {
       "config": {
        "plotlyServerURL": "https://plot.ly"
       },
       "data": [
        {
         "alignmentgroup": "True",
         "hovertemplate": "Dataset=UCMerced<br>Architecture=InceptionResNetV2<br>Stage=%{x}<br>Training time=%{y}<extra></extra>",
         "legendgroup": "UCMerced",
         "marker": {
          "color": "#636efa"
         },
         "name": "UCMerced",
         "offsetgroup": "UCMerced",
         "orientation": "v",
         "showlegend": true,
         "textposition": "auto",
         "type": "bar",
         "x": [
          1,
          2,
          3,
          4,
          5
         ],
         "xaxis": "x",
         "y": [
          9.236815895636877,
          12.451955697933833,
          15.57251731256644,
          16.835023482640583,
          17.795319410165153
         ],
         "yaxis": "y"
        },
        {
         "alignmentgroup": "True",
         "hovertemplate": "Dataset=UCMerced<br>Architecture=InceptionV3<br>Stage=%{x}<br>Training time=%{y}<extra></extra>",
         "legendgroup": "UCMerced",
         "marker": {
          "color": "#636efa"
         },
         "name": "UCMerced",
         "offsetgroup": "UCMerced",
         "orientation": "v",
         "showlegend": false,
         "textposition": "auto",
         "type": "bar",
         "x": [
          1,
          2,
          3,
          4,
          5
         ],
         "xaxis": "x2",
         "y": [
          6.899043037494023,
          9.687428555885951,
          13.36519840757052,
          16.122160571813584,
          20.272688182195026
         ],
         "yaxis": "y2"
        },
        {
         "alignmentgroup": "True",
         "hovertemplate": "Dataset=UCMerced<br>Architecture=ResNet152<br>Stage=%{x}<br>Training time=%{y}<extra></extra>",
         "legendgroup": "UCMerced",
         "marker": {
          "color": "#636efa"
         },
         "name": "UCMerced",
         "offsetgroup": "UCMerced",
         "orientation": "v",
         "showlegend": false,
         "textposition": "auto",
         "type": "bar",
         "x": [
          1,
          2,
          3,
          4,
          5
         ],
         "xaxis": "x3",
         "y": [
          10.242100680867832,
          13.602112918098769,
          13.380312062303226,
          19.538214480876924,
          19.547361557682354
         ],
         "yaxis": "y3"
        },
        {
         "alignmentgroup": "True",
         "hovertemplate": "Dataset=WHU-RS19<br>Architecture=InceptionResNetV2<br>Stage=%{x}<br>Training time=%{y}<extra></extra>",
         "legendgroup": "WHU-RS19",
         "marker": {
          "color": "#EF553B"
         },
         "name": "WHU-RS19",
         "offsetgroup": "WHU-RS19",
         "orientation": "v",
         "showlegend": true,
         "textposition": "auto",
         "type": "bar",
         "x": [
          1,
          2,
          3,
          4,
          5
         ],
         "xaxis": "x",
         "y": [
          9.514642504851023,
          12.67300650080045,
          15.134432252248127,
          17.99570581217607,
          20.026975615819296
         ],
         "yaxis": "y"
        },
        {
         "alignmentgroup": "True",
         "hovertemplate": "Dataset=WHU-RS19<br>Architecture=InceptionV3<br>Stage=%{x}<br>Training time=%{y}<extra></extra>",
         "legendgroup": "WHU-RS19",
         "marker": {
          "color": "#EF553B"
         },
         "name": "WHU-RS19",
         "offsetgroup": "WHU-RS19",
         "orientation": "v",
         "showlegend": false,
         "textposition": "auto",
         "type": "bar",
         "x": [
          1,
          2,
          3,
          4,
          5
         ],
         "xaxis": "x2",
         "y": [
          7.637257810433706,
          10.910843941569327,
          15.472423683603603,
          19.81120791534583,
          23.35355000992616
         ],
         "yaxis": "y2"
        },
        {
         "alignmentgroup": "True",
         "hovertemplate": "Dataset=WHU-RS19<br>Architecture=ResNet152<br>Stage=%{x}<br>Training time=%{y}<extra></extra>",
         "legendgroup": "WHU-RS19",
         "marker": {
          "color": "#EF553B"
         },
         "name": "WHU-RS19",
         "offsetgroup": "WHU-RS19",
         "orientation": "v",
         "showlegend": false,
         "textposition": "auto",
         "type": "bar",
         "x": [
          1,
          2,
          3,
          4,
          5
         ],
         "xaxis": "x3",
         "y": [
          8.935570684075358,
          11.836620373527209,
          14.630511193474135,
          14.728235983848572,
          14.647604376077652
         ],
         "yaxis": "y3"
        },
        {
         "alignmentgroup": "True",
         "hovertemplate": "Dataset=AID<br>Architecture=InceptionResNetV2<br>Stage=%{x}<br>Training time=%{y}<extra></extra>",
         "legendgroup": "AID",
         "marker": {
          "color": "#00cc96"
         },
         "name": "AID",
         "offsetgroup": "AID",
         "orientation": "v",
         "showlegend": true,
         "textposition": "auto",
         "type": "bar",
         "x": [
          1,
          2,
          3,
          4,
          5
         ],
         "xaxis": "x",
         "y": [
          23.41999509334564,
          26.032265866796173,
          30.749319839477536,
          39.772300280133884,
          40.9417165517807
         ],
         "yaxis": "y"
        },
        {
         "alignmentgroup": "True",
         "hovertemplate": "Dataset=AID<br>Architecture=InceptionV3<br>Stage=%{x}<br>Training time=%{y}<extra></extra>",
         "legendgroup": "AID",
         "marker": {
          "color": "#00cc96"
         },
         "name": "AID",
         "offsetgroup": "AID",
         "orientation": "v",
         "showlegend": false,
         "textposition": "auto",
         "type": "bar",
         "x": [
          1,
          2,
          3,
          4,
          5
         ],
         "xaxis": "x2",
         "y": [
          24.208249999086064,
          33.01664507389069,
          44.31159656643868,
          47.948646432161325,
          45.975700098276135
         ],
         "yaxis": "y2"
        },
        {
         "alignmentgroup": "True",
         "hovertemplate": "Dataset=AID<br>Architecture=ResNet152<br>Stage=%{x}<br>Training time=%{y}<extra></extra>",
         "legendgroup": "AID",
         "marker": {
          "color": "#00cc96"
         },
         "name": "AID",
         "offsetgroup": "AID",
         "orientation": "v",
         "showlegend": false,
         "textposition": "auto",
         "type": "bar",
         "x": [
          1,
          2,
          3,
          4,
          5
         ],
         "xaxis": "x3",
         "y": [
          22.083499761422473,
          24.048677988847096,
          26.62308113873005,
          37.17627405921618,
          33.66415913502375
         ],
         "yaxis": "y3"
        },
        {
         "alignmentgroup": "True",
         "hovertemplate": "Dataset=NWPU-RESISC45<br>Architecture=InceptionResNetV2<br>Stage=%{x}<br>Training time=%{y}<extra></extra>",
         "legendgroup": "NWPU-RESISC45",
         "marker": {
          "color": "#ab63fa"
         },
         "name": "NWPU-RESISC45",
         "offsetgroup": "NWPU-RESISC45",
         "orientation": "v",
         "showlegend": true,
         "textposition": "auto",
         "type": "bar",
         "x": [
          1,
          2,
          3,
          4,
          5
         ],
         "xaxis": "x",
         "y": [
          41.42029424773323,
          52.19797367784711,
          55.38031975560718,
          66.19845296144486,
          74.63927196860314
         ],
         "yaxis": "y"
        },
        {
         "alignmentgroup": "True",
         "hovertemplate": "Dataset=NWPU-RESISC45<br>Architecture=InceptionV3<br>Stage=%{x}<br>Training time=%{y}<extra></extra>",
         "legendgroup": "NWPU-RESISC45",
         "marker": {
          "color": "#ab63fa"
         },
         "name": "NWPU-RESISC45",
         "offsetgroup": "NWPU-RESISC45",
         "orientation": "v",
         "showlegend": false,
         "textposition": "auto",
         "type": "bar",
         "x": [
          1,
          2,
          3,
          4,
          5
         ],
         "xaxis": "x2",
         "y": [
          44.28885510894987,
          54.519782626628874,
          75.83805135488511,
          67.24679196543163,
          81.21936569015185
         ],
         "yaxis": "y2"
        },
        {
         "alignmentgroup": "True",
         "hovertemplate": "Dataset=NWPU-RESISC45<br>Architecture=ResNet152<br>Stage=%{x}<br>Training time=%{y}<extra></extra>",
         "legendgroup": "NWPU-RESISC45",
         "marker": {
          "color": "#ab63fa"
         },
         "name": "NWPU-RESISC45",
         "offsetgroup": "NWPU-RESISC45",
         "orientation": "v",
         "showlegend": false,
         "textposition": "auto",
         "type": "bar",
         "x": [
          1,
          2,
          3,
          4,
          5
         ],
         "xaxis": "x3",
         "y": [
          42.71030999157163,
          51.02482651472092,
          57.38623524506886,
          76.99822203185823,
          81.2356971303622
         ],
         "yaxis": "y3"
        }
       ],
       "layout": {
        "annotations": [
         {
          "font": {},
          "showarrow": false,
          "text": "InceptionResNetV2",
          "x": 0.15999999999999998,
          "xanchor": "center",
          "xref": "paper",
          "y": 1,
          "yanchor": "bottom",
          "yref": "paper"
         },
         {
          "font": {},
          "showarrow": false,
          "text": "InceptionV3",
          "x": 0.49999999999999994,
          "xanchor": "center",
          "xref": "paper",
          "y": 1,
          "yanchor": "bottom",
          "yref": "paper"
         },
         {
          "font": {},
          "showarrow": false,
          "text": "ResNet152",
          "x": 0.8399999999999999,
          "xanchor": "center",
          "xref": "paper",
          "y": 1,
          "yanchor": "bottom",
          "yref": "paper"
         }
        ],
        "autosize": true,
        "barmode": "group",
        "legend": {
         "orientation": "h",
         "title": {
          "text": "Dataset"
         },
         "tracegroupgap": 0,
         "x": 0.24,
         "xanchor": "left",
         "y": 1.1,
         "yanchor": "top"
        },
        "margin": {
         "b": 0,
         "l": 0,
         "r": 0,
         "t": 20
        },
        "template": {
         "data": {
          "bar": [
           {
            "error_x": {
             "color": "#2a3f5f"
            },
            "error_y": {
             "color": "#2a3f5f"
            },
            "marker": {
             "line": {
              "color": "#E5ECF6",
              "width": 0.5
             }
            },
            "type": "bar"
           }
          ],
          "barpolar": [
           {
            "marker": {
             "line": {
              "color": "#E5ECF6",
              "width": 0.5
             }
            },
            "type": "barpolar"
           }
          ],
          "carpet": [
           {
            "aaxis": {
             "endlinecolor": "#2a3f5f",
             "gridcolor": "white",
             "linecolor": "white",
             "minorgridcolor": "white",
             "startlinecolor": "#2a3f5f"
            },
            "baxis": {
             "endlinecolor": "#2a3f5f",
             "gridcolor": "white",
             "linecolor": "white",
             "minorgridcolor": "white",
             "startlinecolor": "#2a3f5f"
            },
            "type": "carpet"
           }
          ],
          "choropleth": [
           {
            "colorbar": {
             "outlinewidth": 0,
             "ticks": ""
            },
            "type": "choropleth"
           }
          ],
          "contour": [
           {
            "colorbar": {
             "outlinewidth": 0,
             "ticks": ""
            },
            "colorscale": [
             [
              0,
              "#0d0887"
             ],
             [
              0.1111111111111111,
              "#46039f"
             ],
             [
              0.2222222222222222,
              "#7201a8"
             ],
             [
              0.3333333333333333,
              "#9c179e"
             ],
             [
              0.4444444444444444,
              "#bd3786"
             ],
             [
              0.5555555555555556,
              "#d8576b"
             ],
             [
              0.6666666666666666,
              "#ed7953"
             ],
             [
              0.7777777777777778,
              "#fb9f3a"
             ],
             [
              0.8888888888888888,
              "#fdca26"
             ],
             [
              1,
              "#f0f921"
             ]
            ],
            "type": "contour"
           }
          ],
          "contourcarpet": [
           {
            "colorbar": {
             "outlinewidth": 0,
             "ticks": ""
            },
            "type": "contourcarpet"
           }
          ],
          "heatmap": [
           {
            "colorbar": {
             "outlinewidth": 0,
             "ticks": ""
            },
            "colorscale": [
             [
              0,
              "#0d0887"
             ],
             [
              0.1111111111111111,
              "#46039f"
             ],
             [
              0.2222222222222222,
              "#7201a8"
             ],
             [
              0.3333333333333333,
              "#9c179e"
             ],
             [
              0.4444444444444444,
              "#bd3786"
             ],
             [
              0.5555555555555556,
              "#d8576b"
             ],
             [
              0.6666666666666666,
              "#ed7953"
             ],
             [
              0.7777777777777778,
              "#fb9f3a"
             ],
             [
              0.8888888888888888,
              "#fdca26"
             ],
             [
              1,
              "#f0f921"
             ]
            ],
            "type": "heatmap"
           }
          ],
          "heatmapgl": [
           {
            "colorbar": {
             "outlinewidth": 0,
             "ticks": ""
            },
            "colorscale": [
             [
              0,
              "#0d0887"
             ],
             [
              0.1111111111111111,
              "#46039f"
             ],
             [
              0.2222222222222222,
              "#7201a8"
             ],
             [
              0.3333333333333333,
              "#9c179e"
             ],
             [
              0.4444444444444444,
              "#bd3786"
             ],
             [
              0.5555555555555556,
              "#d8576b"
             ],
             [
              0.6666666666666666,
              "#ed7953"
             ],
             [
              0.7777777777777778,
              "#fb9f3a"
             ],
             [
              0.8888888888888888,
              "#fdca26"
             ],
             [
              1,
              "#f0f921"
             ]
            ],
            "type": "heatmapgl"
           }
          ],
          "histogram": [
           {
            "marker": {
             "colorbar": {
              "outlinewidth": 0,
              "ticks": ""
             }
            },
            "type": "histogram"
           }
          ],
          "histogram2d": [
           {
            "colorbar": {
             "outlinewidth": 0,
             "ticks": ""
            },
            "colorscale": [
             [
              0,
              "#0d0887"
             ],
             [
              0.1111111111111111,
              "#46039f"
             ],
             [
              0.2222222222222222,
              "#7201a8"
             ],
             [
              0.3333333333333333,
              "#9c179e"
             ],
             [
              0.4444444444444444,
              "#bd3786"
             ],
             [
              0.5555555555555556,
              "#d8576b"
             ],
             [
              0.6666666666666666,
              "#ed7953"
             ],
             [
              0.7777777777777778,
              "#fb9f3a"
             ],
             [
              0.8888888888888888,
              "#fdca26"
             ],
             [
              1,
              "#f0f921"
             ]
            ],
            "type": "histogram2d"
           }
          ],
          "histogram2dcontour": [
           {
            "colorbar": {
             "outlinewidth": 0,
             "ticks": ""
            },
            "colorscale": [
             [
              0,
              "#0d0887"
             ],
             [
              0.1111111111111111,
              "#46039f"
             ],
             [
              0.2222222222222222,
              "#7201a8"
             ],
             [
              0.3333333333333333,
              "#9c179e"
             ],
             [
              0.4444444444444444,
              "#bd3786"
             ],
             [
              0.5555555555555556,
              "#d8576b"
             ],
             [
              0.6666666666666666,
              "#ed7953"
             ],
             [
              0.7777777777777778,
              "#fb9f3a"
             ],
             [
              0.8888888888888888,
              "#fdca26"
             ],
             [
              1,
              "#f0f921"
             ]
            ],
            "type": "histogram2dcontour"
           }
          ],
          "mesh3d": [
           {
            "colorbar": {
             "outlinewidth": 0,
             "ticks": ""
            },
            "type": "mesh3d"
           }
          ],
          "parcoords": [
           {
            "line": {
             "colorbar": {
              "outlinewidth": 0,
              "ticks": ""
             }
            },
            "type": "parcoords"
           }
          ],
          "pie": [
           {
            "automargin": true,
            "type": "pie"
           }
          ],
          "scatter": [
           {
            "marker": {
             "colorbar": {
              "outlinewidth": 0,
              "ticks": ""
             }
            },
            "type": "scatter"
           }
          ],
          "scatter3d": [
           {
            "line": {
             "colorbar": {
              "outlinewidth": 0,
              "ticks": ""
             }
            },
            "marker": {
             "colorbar": {
              "outlinewidth": 0,
              "ticks": ""
             }
            },
            "type": "scatter3d"
           }
          ],
          "scattercarpet": [
           {
            "marker": {
             "colorbar": {
              "outlinewidth": 0,
              "ticks": ""
             }
            },
            "type": "scattercarpet"
           }
          ],
          "scattergeo": [
           {
            "marker": {
             "colorbar": {
              "outlinewidth": 0,
              "ticks": ""
             }
            },
            "type": "scattergeo"
           }
          ],
          "scattergl": [
           {
            "marker": {
             "colorbar": {
              "outlinewidth": 0,
              "ticks": ""
             }
            },
            "type": "scattergl"
           }
          ],
          "scattermapbox": [
           {
            "marker": {
             "colorbar": {
              "outlinewidth": 0,
              "ticks": ""
             }
            },
            "type": "scattermapbox"
           }
          ],
          "scatterpolar": [
           {
            "marker": {
             "colorbar": {
              "outlinewidth": 0,
              "ticks": ""
             }
            },
            "type": "scatterpolar"
           }
          ],
          "scatterpolargl": [
           {
            "marker": {
             "colorbar": {
              "outlinewidth": 0,
              "ticks": ""
             }
            },
            "type": "scatterpolargl"
           }
          ],
          "scatterternary": [
           {
            "marker": {
             "colorbar": {
              "outlinewidth": 0,
              "ticks": ""
             }
            },
            "type": "scatterternary"
           }
          ],
          "surface": [
           {
            "colorbar": {
             "outlinewidth": 0,
             "ticks": ""
            },
            "colorscale": [
             [
              0,
              "#0d0887"
             ],
             [
              0.1111111111111111,
              "#46039f"
             ],
             [
              0.2222222222222222,
              "#7201a8"
             ],
             [
              0.3333333333333333,
              "#9c179e"
             ],
             [
              0.4444444444444444,
              "#bd3786"
             ],
             [
              0.5555555555555556,
              "#d8576b"
             ],
             [
              0.6666666666666666,
              "#ed7953"
             ],
             [
              0.7777777777777778,
              "#fb9f3a"
             ],
             [
              0.8888888888888888,
              "#fdca26"
             ],
             [
              1,
              "#f0f921"
             ]
            ],
            "type": "surface"
           }
          ],
          "table": [
           {
            "cells": {
             "fill": {
              "color": "#EBF0F8"
             },
             "line": {
              "color": "white"
             }
            },
            "header": {
             "fill": {
              "color": "#C8D4E3"
             },
             "line": {
              "color": "white"
             }
            },
            "type": "table"
           }
          ]
         },
         "layout": {
          "annotationdefaults": {
           "arrowcolor": "#2a3f5f",
           "arrowhead": 0,
           "arrowwidth": 1
          },
          "coloraxis": {
           "colorbar": {
            "outlinewidth": 0,
            "ticks": ""
           }
          },
          "colorscale": {
           "diverging": [
            [
             0,
             "#8e0152"
            ],
            [
             0.1,
             "#c51b7d"
            ],
            [
             0.2,
             "#de77ae"
            ],
            [
             0.3,
             "#f1b6da"
            ],
            [
             0.4,
             "#fde0ef"
            ],
            [
             0.5,
             "#f7f7f7"
            ],
            [
             0.6,
             "#e6f5d0"
            ],
            [
             0.7,
             "#b8e186"
            ],
            [
             0.8,
             "#7fbc41"
            ],
            [
             0.9,
             "#4d9221"
            ],
            [
             1,
             "#276419"
            ]
           ],
           "sequential": [
            [
             0,
             "#0d0887"
            ],
            [
             0.1111111111111111,
             "#46039f"
            ],
            [
             0.2222222222222222,
             "#7201a8"
            ],
            [
             0.3333333333333333,
             "#9c179e"
            ],
            [
             0.4444444444444444,
             "#bd3786"
            ],
            [
             0.5555555555555556,
             "#d8576b"
            ],
            [
             0.6666666666666666,
             "#ed7953"
            ],
            [
             0.7777777777777778,
             "#fb9f3a"
            ],
            [
             0.8888888888888888,
             "#fdca26"
            ],
            [
             1,
             "#f0f921"
            ]
           ],
           "sequentialminus": [
            [
             0,
             "#0d0887"
            ],
            [
             0.1111111111111111,
             "#46039f"
            ],
            [
             0.2222222222222222,
             "#7201a8"
            ],
            [
             0.3333333333333333,
             "#9c179e"
            ],
            [
             0.4444444444444444,
             "#bd3786"
            ],
            [
             0.5555555555555556,
             "#d8576b"
            ],
            [
             0.6666666666666666,
             "#ed7953"
            ],
            [
             0.7777777777777778,
             "#fb9f3a"
            ],
            [
             0.8888888888888888,
             "#fdca26"
            ],
            [
             1,
             "#f0f921"
            ]
           ]
          },
          "colorway": [
           "#636efa",
           "#EF553B",
           "#00cc96",
           "#ab63fa",
           "#FFA15A",
           "#19d3f3",
           "#FF6692",
           "#B6E880",
           "#FF97FF",
           "#FECB52"
          ],
          "font": {
           "color": "#2a3f5f"
          },
          "geo": {
           "bgcolor": "white",
           "lakecolor": "white",
           "landcolor": "#E5ECF6",
           "showlakes": true,
           "showland": true,
           "subunitcolor": "white"
          },
          "hoverlabel": {
           "align": "left"
          },
          "hovermode": "closest",
          "mapbox": {
           "style": "light"
          },
          "paper_bgcolor": "white",
          "plot_bgcolor": "#E5ECF6",
          "polar": {
           "angularaxis": {
            "gridcolor": "white",
            "linecolor": "white",
            "ticks": ""
           },
           "bgcolor": "#E5ECF6",
           "radialaxis": {
            "gridcolor": "white",
            "linecolor": "white",
            "ticks": ""
           }
          },
          "scene": {
           "xaxis": {
            "backgroundcolor": "#E5ECF6",
            "gridcolor": "white",
            "gridwidth": 2,
            "linecolor": "white",
            "showbackground": true,
            "ticks": "",
            "zerolinecolor": "white"
           },
           "yaxis": {
            "backgroundcolor": "#E5ECF6",
            "gridcolor": "white",
            "gridwidth": 2,
            "linecolor": "white",
            "showbackground": true,
            "ticks": "",
            "zerolinecolor": "white"
           },
           "zaxis": {
            "backgroundcolor": "#E5ECF6",
            "gridcolor": "white",
            "gridwidth": 2,
            "linecolor": "white",
            "showbackground": true,
            "ticks": "",
            "zerolinecolor": "white"
           }
          },
          "shapedefaults": {
           "line": {
            "color": "#2a3f5f"
           }
          },
          "ternary": {
           "aaxis": {
            "gridcolor": "white",
            "linecolor": "white",
            "ticks": ""
           },
           "baxis": {
            "gridcolor": "white",
            "linecolor": "white",
            "ticks": ""
           },
           "bgcolor": "#E5ECF6",
           "caxis": {
            "gridcolor": "white",
            "linecolor": "white",
            "ticks": ""
           }
          },
          "title": {
           "x": 0.05
          },
          "xaxis": {
           "automargin": true,
           "gridcolor": "white",
           "linecolor": "white",
           "ticks": "",
           "title": {
            "standoff": 15
           },
           "zerolinecolor": "white",
           "zerolinewidth": 2
          },
          "yaxis": {
           "automargin": true,
           "gridcolor": "white",
           "linecolor": "white",
           "ticks": "",
           "title": {
            "standoff": 15
           },
           "zerolinecolor": "white",
           "zerolinewidth": 2
          }
         }
        },
        "xaxis": {
         "anchor": "y",
         "domain": [
          0,
          0.31999999999999995
         ],
         "showticklabels": true,
         "tickmode": "linear",
         "title": {
          "text": ""
         },
         "visible": true
        },
        "xaxis2": {
         "anchor": "y2",
         "domain": [
          0.33999999999999997,
          0.6599999999999999
         ],
         "matches": "x",
         "showticklabels": true,
         "tickmode": "linear",
         "title": {
          "text": "Stage"
         },
         "visible": true
        },
        "xaxis3": {
         "anchor": "y3",
         "domain": [
          0.6799999999999999,
          0.9999999999999999
         ],
         "matches": "x",
         "showticklabels": true,
         "tickmode": "linear",
         "title": {
          "text": ""
         },
         "visible": true
        },
        "yaxis": {
         "anchor": "x",
         "domain": [
          0,
          1
         ],
         "showticklabels": true,
         "title": {
          "text": "Training time (min)"
         },
         "visible": true
        },
        "yaxis2": {
         "anchor": "x2",
         "domain": [
          0,
          1
         ],
         "matches": "y",
         "showticklabels": false
        },
        "yaxis3": {
         "anchor": "x3",
         "domain": [
          0,
          1
         ],
         "matches": "y",
         "showticklabels": false
        }
       }
      },
      "text/html": [
       "<div>\n",
       "        \n",
       "        \n",
       "            <div id=\"e432f3e8-cda4-4fbc-a590-a3fe72da2210\" class=\"plotly-graph-div\" style=\"height:525px; width:100%;\"></div>\n",
       "            <script type=\"text/javascript\">\n",
       "                require([\"plotly\"], function(Plotly) {\n",
       "                    window.PLOTLYENV=window.PLOTLYENV || {};\n",
       "                    \n",
       "                if (document.getElementById(\"e432f3e8-cda4-4fbc-a590-a3fe72da2210\")) {\n",
       "                    Plotly.newPlot(\n",
       "                        'e432f3e8-cda4-4fbc-a590-a3fe72da2210',\n",
       "                        [{\"alignmentgroup\": \"True\", \"hovertemplate\": \"Dataset=UCMerced<br>Architecture=InceptionResNetV2<br>Stage=%{x}<br>Training time=%{y}<extra></extra>\", \"legendgroup\": \"UCMerced\", \"marker\": {\"color\": \"#636efa\"}, \"name\": \"UCMerced\", \"offsetgroup\": \"UCMerced\", \"orientation\": \"v\", \"showlegend\": true, \"textposition\": \"auto\", \"type\": \"bar\", \"x\": [1, 2, 3, 4, 5], \"xaxis\": \"x\", \"y\": [9.236815895636877, 12.451955697933833, 15.57251731256644, 16.835023482640583, 17.795319410165153], \"yaxis\": \"y\"}, {\"alignmentgroup\": \"True\", \"hovertemplate\": \"Dataset=UCMerced<br>Architecture=InceptionV3<br>Stage=%{x}<br>Training time=%{y}<extra></extra>\", \"legendgroup\": \"UCMerced\", \"marker\": {\"color\": \"#636efa\"}, \"name\": \"UCMerced\", \"offsetgroup\": \"UCMerced\", \"orientation\": \"v\", \"showlegend\": false, \"textposition\": \"auto\", \"type\": \"bar\", \"x\": [1, 2, 3, 4, 5], \"xaxis\": \"x2\", \"y\": [6.899043037494023, 9.687428555885951, 13.36519840757052, 16.122160571813584, 20.272688182195026], \"yaxis\": \"y2\"}, {\"alignmentgroup\": \"True\", \"hovertemplate\": \"Dataset=UCMerced<br>Architecture=ResNet152<br>Stage=%{x}<br>Training time=%{y}<extra></extra>\", \"legendgroup\": \"UCMerced\", \"marker\": {\"color\": \"#636efa\"}, \"name\": \"UCMerced\", \"offsetgroup\": \"UCMerced\", \"orientation\": \"v\", \"showlegend\": false, \"textposition\": \"auto\", \"type\": \"bar\", \"x\": [1, 2, 3, 4, 5], \"xaxis\": \"x3\", \"y\": [10.242100680867832, 13.602112918098769, 13.380312062303226, 19.538214480876924, 19.547361557682354], \"yaxis\": \"y3\"}, {\"alignmentgroup\": \"True\", \"hovertemplate\": \"Dataset=WHU-RS19<br>Architecture=InceptionResNetV2<br>Stage=%{x}<br>Training time=%{y}<extra></extra>\", \"legendgroup\": \"WHU-RS19\", \"marker\": {\"color\": \"#EF553B\"}, \"name\": \"WHU-RS19\", \"offsetgroup\": \"WHU-RS19\", \"orientation\": \"v\", \"showlegend\": true, \"textposition\": \"auto\", \"type\": \"bar\", \"x\": [1, 2, 3, 4, 5], \"xaxis\": \"x\", \"y\": [9.514642504851023, 12.67300650080045, 15.134432252248127, 17.99570581217607, 20.026975615819296], \"yaxis\": \"y\"}, {\"alignmentgroup\": \"True\", \"hovertemplate\": \"Dataset=WHU-RS19<br>Architecture=InceptionV3<br>Stage=%{x}<br>Training time=%{y}<extra></extra>\", \"legendgroup\": \"WHU-RS19\", \"marker\": {\"color\": \"#EF553B\"}, \"name\": \"WHU-RS19\", \"offsetgroup\": \"WHU-RS19\", \"orientation\": \"v\", \"showlegend\": false, \"textposition\": \"auto\", \"type\": \"bar\", \"x\": [1, 2, 3, 4, 5], \"xaxis\": \"x2\", \"y\": [7.637257810433706, 10.910843941569327, 15.472423683603603, 19.81120791534583, 23.35355000992616], \"yaxis\": \"y2\"}, {\"alignmentgroup\": \"True\", \"hovertemplate\": \"Dataset=WHU-RS19<br>Architecture=ResNet152<br>Stage=%{x}<br>Training time=%{y}<extra></extra>\", \"legendgroup\": \"WHU-RS19\", \"marker\": {\"color\": \"#EF553B\"}, \"name\": \"WHU-RS19\", \"offsetgroup\": \"WHU-RS19\", \"orientation\": \"v\", \"showlegend\": false, \"textposition\": \"auto\", \"type\": \"bar\", \"x\": [1, 2, 3, 4, 5], \"xaxis\": \"x3\", \"y\": [8.935570684075358, 11.836620373527209, 14.630511193474135, 14.728235983848572, 14.647604376077652], \"yaxis\": \"y3\"}, {\"alignmentgroup\": \"True\", \"hovertemplate\": \"Dataset=AID<br>Architecture=InceptionResNetV2<br>Stage=%{x}<br>Training time=%{y}<extra></extra>\", \"legendgroup\": \"AID\", \"marker\": {\"color\": \"#00cc96\"}, \"name\": \"AID\", \"offsetgroup\": \"AID\", \"orientation\": \"v\", \"showlegend\": true, \"textposition\": \"auto\", \"type\": \"bar\", \"x\": [1, 2, 3, 4, 5], \"xaxis\": \"x\", \"y\": [23.41999509334564, 26.032265866796173, 30.749319839477536, 39.772300280133884, 40.9417165517807], \"yaxis\": \"y\"}, {\"alignmentgroup\": \"True\", \"hovertemplate\": \"Dataset=AID<br>Architecture=InceptionV3<br>Stage=%{x}<br>Training time=%{y}<extra></extra>\", \"legendgroup\": \"AID\", \"marker\": {\"color\": \"#00cc96\"}, \"name\": \"AID\", \"offsetgroup\": \"AID\", \"orientation\": \"v\", \"showlegend\": false, \"textposition\": \"auto\", \"type\": \"bar\", \"x\": [1, 2, 3, 4, 5], \"xaxis\": \"x2\", \"y\": [24.208249999086064, 33.01664507389069, 44.31159656643868, 47.948646432161325, 45.975700098276135], \"yaxis\": \"y2\"}, {\"alignmentgroup\": \"True\", \"hovertemplate\": \"Dataset=AID<br>Architecture=ResNet152<br>Stage=%{x}<br>Training time=%{y}<extra></extra>\", \"legendgroup\": \"AID\", \"marker\": {\"color\": \"#00cc96\"}, \"name\": \"AID\", \"offsetgroup\": \"AID\", \"orientation\": \"v\", \"showlegend\": false, \"textposition\": \"auto\", \"type\": \"bar\", \"x\": [1, 2, 3, 4, 5], \"xaxis\": \"x3\", \"y\": [22.083499761422473, 24.048677988847096, 26.62308113873005, 37.17627405921618, 33.66415913502375], \"yaxis\": \"y3\"}, {\"alignmentgroup\": \"True\", \"hovertemplate\": \"Dataset=NWPU-RESISC45<br>Architecture=InceptionResNetV2<br>Stage=%{x}<br>Training time=%{y}<extra></extra>\", \"legendgroup\": \"NWPU-RESISC45\", \"marker\": {\"color\": \"#ab63fa\"}, \"name\": \"NWPU-RESISC45\", \"offsetgroup\": \"NWPU-RESISC45\", \"orientation\": \"v\", \"showlegend\": true, \"textposition\": \"auto\", \"type\": \"bar\", \"x\": [1, 2, 3, 4, 5], \"xaxis\": \"x\", \"y\": [41.42029424773323, 52.19797367784711, 55.38031975560718, 66.19845296144486, 74.63927196860314], \"yaxis\": \"y\"}, {\"alignmentgroup\": \"True\", \"hovertemplate\": \"Dataset=NWPU-RESISC45<br>Architecture=InceptionV3<br>Stage=%{x}<br>Training time=%{y}<extra></extra>\", \"legendgroup\": \"NWPU-RESISC45\", \"marker\": {\"color\": \"#ab63fa\"}, \"name\": \"NWPU-RESISC45\", \"offsetgroup\": \"NWPU-RESISC45\", \"orientation\": \"v\", \"showlegend\": false, \"textposition\": \"auto\", \"type\": \"bar\", \"x\": [1, 2, 3, 4, 5], \"xaxis\": \"x2\", \"y\": [44.28885510894987, 54.519782626628874, 75.83805135488511, 67.24679196543163, 81.21936569015185], \"yaxis\": \"y2\"}, {\"alignmentgroup\": \"True\", \"hovertemplate\": \"Dataset=NWPU-RESISC45<br>Architecture=ResNet152<br>Stage=%{x}<br>Training time=%{y}<extra></extra>\", \"legendgroup\": \"NWPU-RESISC45\", \"marker\": {\"color\": \"#ab63fa\"}, \"name\": \"NWPU-RESISC45\", \"offsetgroup\": \"NWPU-RESISC45\", \"orientation\": \"v\", \"showlegend\": false, \"textposition\": \"auto\", \"type\": \"bar\", \"x\": [1, 2, 3, 4, 5], \"xaxis\": \"x3\", \"y\": [42.71030999157163, 51.02482651472092, 57.38623524506886, 76.99822203185823, 81.2356971303622], \"yaxis\": \"y3\"}],\n",
       "                        {\"annotations\": [{\"font\": {}, \"showarrow\": false, \"text\": \"InceptionResNetV2\", \"x\": 0.15999999999999998, \"xanchor\": \"center\", \"xref\": \"paper\", \"y\": 1.0, \"yanchor\": \"bottom\", \"yref\": \"paper\"}, {\"font\": {}, \"showarrow\": false, \"text\": \"InceptionV3\", \"x\": 0.49999999999999994, \"xanchor\": \"center\", \"xref\": \"paper\", \"y\": 1.0, \"yanchor\": \"bottom\", \"yref\": \"paper\"}, {\"font\": {}, \"showarrow\": false, \"text\": \"ResNet152\", \"x\": 0.8399999999999999, \"xanchor\": \"center\", \"xref\": \"paper\", \"y\": 1.0, \"yanchor\": \"bottom\", \"yref\": \"paper\"}], \"autosize\": true, \"barmode\": \"group\", \"legend\": {\"orientation\": \"h\", \"title\": {\"text\": \"Dataset\"}, \"tracegroupgap\": 0, \"x\": 0.24, \"xanchor\": \"left\", \"y\": 1.1, \"yanchor\": \"top\"}, \"margin\": {\"b\": 0, \"l\": 0, \"r\": 0, \"t\": 20}, \"template\": {\"data\": {\"bar\": [{\"error_x\": {\"color\": \"#2a3f5f\"}, \"error_y\": {\"color\": \"#2a3f5f\"}, \"marker\": {\"line\": {\"color\": \"#E5ECF6\", \"width\": 0.5}}, \"type\": \"bar\"}], \"barpolar\": [{\"marker\": {\"line\": {\"color\": \"#E5ECF6\", \"width\": 0.5}}, \"type\": \"barpolar\"}], \"carpet\": [{\"aaxis\": {\"endlinecolor\": \"#2a3f5f\", \"gridcolor\": \"white\", \"linecolor\": \"white\", \"minorgridcolor\": \"white\", \"startlinecolor\": \"#2a3f5f\"}, \"baxis\": {\"endlinecolor\": \"#2a3f5f\", \"gridcolor\": \"white\", \"linecolor\": \"white\", \"minorgridcolor\": \"white\", \"startlinecolor\": \"#2a3f5f\"}, \"type\": \"carpet\"}], \"choropleth\": [{\"colorbar\": {\"outlinewidth\": 0, \"ticks\": \"\"}, \"type\": \"choropleth\"}], \"contour\": [{\"colorbar\": {\"outlinewidth\": 0, \"ticks\": \"\"}, \"colorscale\": [[0.0, \"#0d0887\"], [0.1111111111111111, \"#46039f\"], [0.2222222222222222, \"#7201a8\"], [0.3333333333333333, \"#9c179e\"], [0.4444444444444444, \"#bd3786\"], [0.5555555555555556, \"#d8576b\"], [0.6666666666666666, \"#ed7953\"], [0.7777777777777778, \"#fb9f3a\"], [0.8888888888888888, \"#fdca26\"], [1.0, \"#f0f921\"]], \"type\": \"contour\"}], \"contourcarpet\": [{\"colorbar\": {\"outlinewidth\": 0, \"ticks\": \"\"}, \"type\": \"contourcarpet\"}], \"heatmap\": [{\"colorbar\": {\"outlinewidth\": 0, \"ticks\": \"\"}, \"colorscale\": [[0.0, \"#0d0887\"], [0.1111111111111111, \"#46039f\"], [0.2222222222222222, \"#7201a8\"], [0.3333333333333333, \"#9c179e\"], [0.4444444444444444, \"#bd3786\"], [0.5555555555555556, \"#d8576b\"], [0.6666666666666666, \"#ed7953\"], [0.7777777777777778, \"#fb9f3a\"], [0.8888888888888888, \"#fdca26\"], [1.0, \"#f0f921\"]], \"type\": \"heatmap\"}], \"heatmapgl\": [{\"colorbar\": {\"outlinewidth\": 0, \"ticks\": \"\"}, \"colorscale\": [[0.0, \"#0d0887\"], [0.1111111111111111, \"#46039f\"], [0.2222222222222222, \"#7201a8\"], [0.3333333333333333, \"#9c179e\"], [0.4444444444444444, \"#bd3786\"], [0.5555555555555556, \"#d8576b\"], [0.6666666666666666, \"#ed7953\"], [0.7777777777777778, \"#fb9f3a\"], [0.8888888888888888, \"#fdca26\"], [1.0, \"#f0f921\"]], \"type\": \"heatmapgl\"}], \"histogram\": [{\"marker\": {\"colorbar\": {\"outlinewidth\": 0, \"ticks\": \"\"}}, \"type\": \"histogram\"}], \"histogram2d\": [{\"colorbar\": {\"outlinewidth\": 0, \"ticks\": \"\"}, \"colorscale\": [[0.0, \"#0d0887\"], [0.1111111111111111, \"#46039f\"], [0.2222222222222222, \"#7201a8\"], [0.3333333333333333, \"#9c179e\"], [0.4444444444444444, \"#bd3786\"], [0.5555555555555556, \"#d8576b\"], [0.6666666666666666, \"#ed7953\"], [0.7777777777777778, \"#fb9f3a\"], [0.8888888888888888, \"#fdca26\"], [1.0, \"#f0f921\"]], \"type\": \"histogram2d\"}], \"histogram2dcontour\": [{\"colorbar\": {\"outlinewidth\": 0, \"ticks\": \"\"}, \"colorscale\": [[0.0, \"#0d0887\"], [0.1111111111111111, \"#46039f\"], [0.2222222222222222, \"#7201a8\"], [0.3333333333333333, \"#9c179e\"], [0.4444444444444444, \"#bd3786\"], [0.5555555555555556, \"#d8576b\"], [0.6666666666666666, \"#ed7953\"], [0.7777777777777778, \"#fb9f3a\"], [0.8888888888888888, \"#fdca26\"], [1.0, \"#f0f921\"]], \"type\": \"histogram2dcontour\"}], \"mesh3d\": [{\"colorbar\": {\"outlinewidth\": 0, \"ticks\": \"\"}, \"type\": \"mesh3d\"}], \"parcoords\": [{\"line\": {\"colorbar\": {\"outlinewidth\": 0, \"ticks\": \"\"}}, \"type\": \"parcoords\"}], \"pie\": [{\"automargin\": true, \"type\": \"pie\"}], \"scatter\": [{\"marker\": {\"colorbar\": {\"outlinewidth\": 0, \"ticks\": \"\"}}, \"type\": \"scatter\"}], \"scatter3d\": [{\"line\": {\"colorbar\": {\"outlinewidth\": 0, \"ticks\": \"\"}}, \"marker\": {\"colorbar\": {\"outlinewidth\": 0, \"ticks\": \"\"}}, \"type\": \"scatter3d\"}], \"scattercarpet\": [{\"marker\": {\"colorbar\": {\"outlinewidth\": 0, \"ticks\": \"\"}}, \"type\": \"scattercarpet\"}], \"scattergeo\": [{\"marker\": {\"colorbar\": {\"outlinewidth\": 0, \"ticks\": \"\"}}, \"type\": \"scattergeo\"}], \"scattergl\": [{\"marker\": {\"colorbar\": {\"outlinewidth\": 0, \"ticks\": \"\"}}, \"type\": \"scattergl\"}], \"scattermapbox\": [{\"marker\": {\"colorbar\": {\"outlinewidth\": 0, \"ticks\": \"\"}}, \"type\": \"scattermapbox\"}], \"scatterpolar\": [{\"marker\": {\"colorbar\": {\"outlinewidth\": 0, \"ticks\": \"\"}}, \"type\": \"scatterpolar\"}], \"scatterpolargl\": [{\"marker\": {\"colorbar\": {\"outlinewidth\": 0, \"ticks\": \"\"}}, \"type\": \"scatterpolargl\"}], \"scatterternary\": [{\"marker\": {\"colorbar\": {\"outlinewidth\": 0, \"ticks\": \"\"}}, \"type\": \"scatterternary\"}], \"surface\": [{\"colorbar\": {\"outlinewidth\": 0, \"ticks\": \"\"}, \"colorscale\": [[0.0, \"#0d0887\"], [0.1111111111111111, \"#46039f\"], [0.2222222222222222, \"#7201a8\"], [0.3333333333333333, \"#9c179e\"], [0.4444444444444444, \"#bd3786\"], [0.5555555555555556, \"#d8576b\"], [0.6666666666666666, \"#ed7953\"], [0.7777777777777778, \"#fb9f3a\"], [0.8888888888888888, \"#fdca26\"], [1.0, \"#f0f921\"]], \"type\": \"surface\"}], \"table\": [{\"cells\": {\"fill\": {\"color\": \"#EBF0F8\"}, \"line\": {\"color\": \"white\"}}, \"header\": {\"fill\": {\"color\": \"#C8D4E3\"}, \"line\": {\"color\": \"white\"}}, \"type\": \"table\"}]}, \"layout\": {\"annotationdefaults\": {\"arrowcolor\": \"#2a3f5f\", \"arrowhead\": 0, \"arrowwidth\": 1}, \"coloraxis\": {\"colorbar\": {\"outlinewidth\": 0, \"ticks\": \"\"}}, \"colorscale\": {\"diverging\": [[0, \"#8e0152\"], [0.1, \"#c51b7d\"], [0.2, \"#de77ae\"], [0.3, \"#f1b6da\"], [0.4, \"#fde0ef\"], [0.5, \"#f7f7f7\"], [0.6, \"#e6f5d0\"], [0.7, \"#b8e186\"], [0.8, \"#7fbc41\"], [0.9, \"#4d9221\"], [1, \"#276419\"]], \"sequential\": [[0.0, \"#0d0887\"], [0.1111111111111111, \"#46039f\"], [0.2222222222222222, \"#7201a8\"], [0.3333333333333333, \"#9c179e\"], [0.4444444444444444, \"#bd3786\"], [0.5555555555555556, \"#d8576b\"], [0.6666666666666666, \"#ed7953\"], [0.7777777777777778, \"#fb9f3a\"], [0.8888888888888888, \"#fdca26\"], [1.0, \"#f0f921\"]], \"sequentialminus\": [[0.0, \"#0d0887\"], [0.1111111111111111, \"#46039f\"], [0.2222222222222222, \"#7201a8\"], [0.3333333333333333, \"#9c179e\"], [0.4444444444444444, \"#bd3786\"], [0.5555555555555556, \"#d8576b\"], [0.6666666666666666, \"#ed7953\"], [0.7777777777777778, \"#fb9f3a\"], [0.8888888888888888, \"#fdca26\"], [1.0, \"#f0f921\"]]}, \"colorway\": [\"#636efa\", \"#EF553B\", \"#00cc96\", \"#ab63fa\", \"#FFA15A\", \"#19d3f3\", \"#FF6692\", \"#B6E880\", \"#FF97FF\", \"#FECB52\"], \"font\": {\"color\": \"#2a3f5f\"}, \"geo\": {\"bgcolor\": \"white\", \"lakecolor\": \"white\", \"landcolor\": \"#E5ECF6\", \"showlakes\": true, \"showland\": true, \"subunitcolor\": \"white\"}, \"hoverlabel\": {\"align\": \"left\"}, \"hovermode\": \"closest\", \"mapbox\": {\"style\": \"light\"}, \"paper_bgcolor\": \"white\", \"plot_bgcolor\": \"#E5ECF6\", \"polar\": {\"angularaxis\": {\"gridcolor\": \"white\", \"linecolor\": \"white\", \"ticks\": \"\"}, \"bgcolor\": \"#E5ECF6\", \"radialaxis\": {\"gridcolor\": \"white\", \"linecolor\": \"white\", \"ticks\": \"\"}}, \"scene\": {\"xaxis\": {\"backgroundcolor\": \"#E5ECF6\", \"gridcolor\": \"white\", \"gridwidth\": 2, \"linecolor\": \"white\", \"showbackground\": true, \"ticks\": \"\", \"zerolinecolor\": \"white\"}, \"yaxis\": {\"backgroundcolor\": \"#E5ECF6\", \"gridcolor\": \"white\", \"gridwidth\": 2, \"linecolor\": \"white\", \"showbackground\": true, \"ticks\": \"\", \"zerolinecolor\": \"white\"}, \"zaxis\": {\"backgroundcolor\": \"#E5ECF6\", \"gridcolor\": \"white\", \"gridwidth\": 2, \"linecolor\": \"white\", \"showbackground\": true, \"ticks\": \"\", \"zerolinecolor\": \"white\"}}, \"shapedefaults\": {\"line\": {\"color\": \"#2a3f5f\"}}, \"ternary\": {\"aaxis\": {\"gridcolor\": \"white\", \"linecolor\": \"white\", \"ticks\": \"\"}, \"baxis\": {\"gridcolor\": \"white\", \"linecolor\": \"white\", \"ticks\": \"\"}, \"bgcolor\": \"#E5ECF6\", \"caxis\": {\"gridcolor\": \"white\", \"linecolor\": \"white\", \"ticks\": \"\"}}, \"title\": {\"x\": 0.05}, \"xaxis\": {\"automargin\": true, \"gridcolor\": \"white\", \"linecolor\": \"white\", \"ticks\": \"\", \"title\": {\"standoff\": 15}, \"zerolinecolor\": \"white\", \"zerolinewidth\": 2}, \"yaxis\": {\"automargin\": true, \"gridcolor\": \"white\", \"linecolor\": \"white\", \"ticks\": \"\", \"title\": {\"standoff\": 15}, \"zerolinecolor\": \"white\", \"zerolinewidth\": 2}}}, \"xaxis\": {\"anchor\": \"y\", \"domain\": [0.0, 0.31999999999999995], \"showticklabels\": true, \"tickmode\": \"linear\", \"title\": {\"text\": \"\"}, \"visible\": true}, \"xaxis2\": {\"anchor\": \"y2\", \"domain\": [0.33999999999999997, 0.6599999999999999], \"matches\": \"x\", \"showticklabels\": true, \"tickmode\": \"linear\", \"title\": {\"text\": \"Stage\"}, \"visible\": true}, \"xaxis3\": {\"anchor\": \"y3\", \"domain\": [0.6799999999999999, 0.9999999999999999], \"matches\": \"x\", \"showticklabels\": true, \"tickmode\": \"linear\", \"title\": {\"text\": \"\"}, \"visible\": true}, \"yaxis\": {\"anchor\": \"x\", \"domain\": [0.0, 1.0], \"showticklabels\": true, \"title\": {\"text\": \"Training time (min)\"}, \"visible\": true}, \"yaxis2\": {\"anchor\": \"x2\", \"domain\": [0.0, 1.0], \"matches\": \"y\", \"showticklabels\": false}, \"yaxis3\": {\"anchor\": \"x3\", \"domain\": [0.0, 1.0], \"matches\": \"y\", \"showticklabels\": false}},\n",
       "                        {\"responsive\": true}\n",
       "                    ).then(function(){\n",
       "                            \n",
       "var gd = document.getElementById('e432f3e8-cda4-4fbc-a590-a3fe72da2210');\n",
       "var x = new MutationObserver(function (mutations, observer) {{\n",
       "        var display = window.getComputedStyle(gd).display;\n",
       "        if (!display || display === 'none') {{\n",
       "            console.log([gd, 'removed!']);\n",
       "            Plotly.purge(gd);\n",
       "            observer.disconnect();\n",
       "        }}\n",
       "}});\n",
       "\n",
       "// Listen for the removal of the full notebook cells\n",
       "var notebookContainer = gd.closest('#notebook-container');\n",
       "if (notebookContainer) {{\n",
       "    x.observe(notebookContainer, {childList: true});\n",
       "}}\n",
       "\n",
       "// Listen for the clearing of the current output cell\n",
       "var outputEl = gd.closest('.output');\n",
       "if (outputEl) {{\n",
       "    x.observe(outputEl, {childList: true});\n",
       "}}\n",
       "\n",
       "                        })\n",
       "                };\n",
       "                });\n",
       "            </script>\n",
       "        </div>"
      ]
     },
     "metadata": {},
     "output_type": "display_data"
    }
   ],
   "source": [
    "import plotly.express as px\n",
    "fig = px.bar(df_temp, x=\"Stage\", y=\"Training time\", color=\"Dataset\", barmode=\"group\",\n",
    "             #facet_row=\"iteracion\", facet_col=\"day\",\n",
    "             #facet_col=\"arquitectura\",\n",
    "             facet_col=\"Architecture\",\n",
    "             category_orders={\"Arquitecture\": [\"ResNet152\", \"InceptionResNetV2\", \"InceptionV3\"],\n",
    "                              \"Dataset\": [\"UCMerced\", \"WHU-RS19\", \"AID\", \"NWPU-RESISC45\"]\n",
    "                             },\n",
    "             \n",
    "\n",
    "            )\n",
    "\n",
    "fig.for_each_annotation(lambda a: a.update(text=a.text.split(\"=\")[-1])) # Quitar Clave\n",
    "fig.update_layout(autosize=True, margin={'l': 0, 'r': 0, 't': 20, 'b': 0})\n",
    "fig.update_layout(legend=dict(\n",
    "    yanchor=\"top\",\n",
    "    y=1.10,\n",
    "    xanchor=\"left\",\n",
    "    x=0.24,\n",
    "    orientation= \"h\",\n",
    "))\n",
    "fig.update_layout(yaxis={'visible': True, 'showticklabels': True, 'title':'Training time (min)'})\n",
    "fig.update_layout(xaxis={'visible': True, 'showticklabels': True, 'title':'Stage', 'tickmode':'linear', \"title_text\":\"\" } )\n",
    "fig.update_layout(xaxis2={'visible': True, 'showticklabels': True, 'title':'Stage', 'tickmode':'linear'}) #'tickprefix':\"Stage_\"},)\n",
    "fig.update_layout(xaxis3={'visible': True, 'showticklabels': True, 'title':'Stage', 'tickmode':'linear', \"title_text\":\"\" } )\n",
    "#ig.update_layout(title_text)\n",
    "\n",
    "\n",
    "\n",
    "fig.write_image('ssl_training_time.pdf')\n",
    "fig.show()"
   ]
  },
  {
   "cell_type": "code",
   "execution_count": null,
   "metadata": {},
   "outputs": [],
   "source": []
  }
 ],
 "metadata": {
  "kernelspec": {
   "display_name": "Python 3",
   "language": "python",
   "name": "python3"
  },
  "language_info": {
   "codemirror_mode": {
    "name": "ipython",
    "version": 3
   },
   "file_extension": ".py",
   "mimetype": "text/x-python",
   "name": "python",
   "nbconvert_exporter": "python",
   "pygments_lexer": "ipython3",
   "version": "3.7.6"
  }
 },
 "nbformat": 4,
 "nbformat_minor": 4
}
