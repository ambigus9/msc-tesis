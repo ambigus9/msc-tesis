{
 "cells": [
  {
   "cell_type": "code",
   "execution_count": 6,
   "metadata": {},
   "outputs": [
    {
     "name": "stdout",
     "output_type": "stream",
     "text": [
      "experiments\t  __pycache__\t    ssl_label.py   utils_general.py\r\n",
      "ml_generators.py  ssl_baseline.py   ssl_stats.py   utils_preprocess.py\r\n",
      "ml_strategy.py\t  ssl_baseline.yml  ssl_train.py\r\n",
      "notebooks\t  ssl_eval.py\t    utils_data.py\r\n"
     ]
    }
   ],
   "source": [
    "!ls ../"
   ]
  },
  {
   "cell_type": "code",
   "execution_count": 8,
   "metadata": {},
   "outputs": [],
   "source": [
    "from benedict import benedict"
   ]
  },
  {
   "cell_type": "code",
   "execution_count": 16,
   "metadata": {},
   "outputs": [
    {
     "data": {
      "text/plain": [
       "{'weights': 'imagenet',\n",
       " 'img_height': 299,\n",
       " 'img_width': 299,\n",
       " 'augmenting_factor': 1.5,\n",
       " 'class_num': 2,\n",
       " 'batch_size': 16,\n",
       " 'save_model': False,\n",
       " 'x_col_name': 'imagen',\n",
       " 'y_col_name': 'clase',\n",
       " 'ruta_base': None,\n",
       " 'transfer_learning': 'classic',\n",
       " 'save_figs': None,\n",
       " 'modalidad': {'ultra-fast': {'train_epocs': 1, 'batch_epocs': 1}}}"
      ]
     },
     "execution_count": 16,
     "metadata": {},
     "output_type": "execute_result"
    }
   ],
   "source": [
    "import yaml\n",
    "with open('../ssl_baseline.yml') as f:\n",
    "    # use safe_load instead load\n",
    "    dataMap = yaml.safe_load(f)\n",
    "    \n",
    "dataMap"
   ]
  },
  {
   "cell_type": "code",
   "execution_count": 18,
   "metadata": {},
   "outputs": [
    {
     "name": "stdout",
     "output_type": "stream",
     "text": [
      "weights <class 'str'>\n",
      "img_height <class 'int'>\n",
      "img_width <class 'int'>\n",
      "augmenting_factor <class 'float'>\n",
      "class_num <class 'int'>\n",
      "batch_size <class 'int'>\n",
      "save_model <class 'bool'>\n",
      "x_col_name <class 'str'>\n",
      "y_col_name <class 'str'>\n",
      "ruta_base <class 'NoneType'>\n",
      "transfer_learning <class 'str'>\n",
      "save_figs <class 'NoneType'>\n",
      "modalidad <class 'dict'>\n"
     ]
    }
   ],
   "source": [
    "for k,v in dataMap.items():\n",
    "    print(k,type(v))"
   ]
  }
 ],
 "metadata": {
  "kernelspec": {
   "display_name": "msc-tesis",
   "language": "python",
   "name": "msc-tesis"
  },
  "language_info": {
   "codemirror_mode": {
    "name": "ipython",
    "version": 3
   },
   "file_extension": ".py",
   "mimetype": "text/x-python",
   "name": "python",
   "nbconvert_exporter": "python",
   "pygments_lexer": "ipython3",
   "version": "3.6.9"
  }
 },
 "nbformat": 4,
 "nbformat_minor": 4
}
