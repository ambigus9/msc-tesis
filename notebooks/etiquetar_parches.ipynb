{
 "cells": [
  {
   "cell_type": "code",
   "execution_count": 1,
   "metadata": {},
   "outputs": [],
   "source": [
    "import scipy.io\n",
    "mat = scipy.io.loadmat('../data/paper_arabe/groundTruthData.mat')"
   ]
  },
  {
   "cell_type": "code",
   "execution_count": 2,
   "metadata": {},
   "outputs": [],
   "source": [
    "classNames  = mat['classNames']\n",
    "classColors = mat['classColors']\n",
    "classSize   = mat['classSize']\n",
    "tileLabes   = mat['tileLabels']"
   ]
  },
  {
   "cell_type": "code",
   "execution_count": 3,
   "metadata": {},
   "outputs": [
    {
     "data": {
      "text/plain": [
       "(81, 50)"
      ]
     },
     "execution_count": 3,
     "metadata": {},
     "output_type": "execute_result"
    }
   ],
   "source": [
    "tileLabes.shape"
   ]
  },
  {
   "cell_type": "code",
   "execution_count": 4,
   "metadata": {},
   "outputs": [
    {
     "data": {
      "text/plain": [
       "array([2, 0, 2, 2, 0, 0, 0, 0, 0, 0, 0, 0, 0, 0, 2, 2, 0, 0, 0, 0, 0, 0,\n",
       "       0, 0, 0, 0, 0, 0, 0, 0, 0, 0, 0, 0, 4, 0, 8, 0, 0, 0, 6, 6, 6, 6,\n",
       "       5, 6, 5, 0, 5, 5], dtype=uint8)"
      ]
     },
     "execution_count": 4,
     "metadata": {},
     "output_type": "execute_result"
    }
   ],
   "source": [
    "tileLabes[0]"
   ]
  },
  {
   "cell_type": "code",
   "execution_count": 5,
   "metadata": {},
   "outputs": [
    {
     "data": {
      "text/plain": [
       "4050"
      ]
     },
     "execution_count": 5,
     "metadata": {},
     "output_type": "execute_result"
    }
   ],
   "source": [
    "81*50"
   ]
  },
  {
   "cell_type": "code",
   "execution_count": 6,
   "metadata": {},
   "outputs": [
    {
     "name": "stdout",
     "output_type": "stream",
     "text": [
      "1 Asphalt\n",
      "2 Bare Soil\n",
      "3 Beach\n",
      "4 Cargo\n",
      "5 Dense Residential\n",
      "6 Medium Residential\n",
      "7 Sparse residential\n",
      "8 Sparse Trees\n",
      "9 Water\n"
     ]
    }
   ],
   "source": [
    "mapa_clases=dict()\n",
    "for i in range(len(classNames[0])):\n",
    "    print(i+1,classNames[0][i][0])\n",
    "    mapa_clases[i+1]=classNames[0][i][0]"
   ]
  },
  {
   "cell_type": "code",
   "execution_count": 7,
   "metadata": {},
   "outputs": [
    {
     "data": {
      "text/plain": [
       "{1: 'Asphalt',\n",
       " 2: 'Bare Soil',\n",
       " 3: 'Beach',\n",
       " 4: 'Cargo',\n",
       " 5: 'Dense Residential',\n",
       " 6: 'Medium Residential',\n",
       " 7: 'Sparse residential',\n",
       " 8: 'Sparse Trees',\n",
       " 9: 'Water'}"
      ]
     },
     "execution_count": 7,
     "metadata": {},
     "output_type": "execute_result"
    }
   ],
   "source": [
    "mapa_clases"
   ]
  },
  {
   "cell_type": "code",
   "execution_count": 8,
   "metadata": {},
   "outputs": [
    {
     "name": "stdout",
     "output_type": "stream",
     "text": [
      "0 None\n",
      "1 None\n",
      "2 Sparse Trees\n",
      "3 Bare Soil\n",
      "4 None\n",
      "5 Asphalt\n",
      "6 None\n",
      "7 None\n",
      "8 None\n",
      "9 None\n",
      "10 None\n",
      "11 None\n",
      "12 Sparse Trees\n",
      "13 None\n",
      "14 None\n",
      "15 None\n",
      "16 None\n",
      "17 None\n",
      "18 Asphalt\n",
      "19 None\n",
      "20 None\n",
      "21 None\n",
      "22 None\n",
      "23 None\n",
      "24 None\n",
      "25 Medium Residential\n",
      "26 None\n",
      "27 None\n",
      "28 None\n",
      "29 None\n",
      "30 None\n",
      "31 None\n",
      "32 None\n",
      "33 None\n",
      "34 Cargo\n",
      "35 None\n",
      "36 None\n",
      "37 None\n",
      "38 None\n",
      "39 Medium Residential\n",
      "40 Medium Residential\n",
      "41 Dense Residential\n",
      "42 Dense Residential\n",
      "43 Dense Residential\n",
      "44 None\n",
      "45 Medium Residential\n",
      "46 Dense Residential\n",
      "47 None\n",
      "48 Medium Residential\n",
      "49 Dense Residential\n"
     ]
    }
   ],
   "source": [
    "muestra=list(map(mapa_clases.get, tileLabes[1]))\n",
    "\n",
    "for i in range(len(muestra)):\n",
    "    print(i,muestra[i])"
   ]
  },
  {
   "cell_type": "code",
   "execution_count": 9,
   "metadata": {},
   "outputs": [
    {
     "data": {
      "text/plain": [
       "[None,\n",
       " None,\n",
       " 'Sparse Trees',\n",
       " 'Bare Soil',\n",
       " None,\n",
       " 'Asphalt',\n",
       " None,\n",
       " None,\n",
       " None,\n",
       " None,\n",
       " None,\n",
       " None,\n",
       " 'Sparse Trees',\n",
       " None,\n",
       " None,\n",
       " None,\n",
       " None,\n",
       " None,\n",
       " 'Asphalt',\n",
       " None,\n",
       " None,\n",
       " None,\n",
       " None,\n",
       " None,\n",
       " None,\n",
       " 'Medium Residential',\n",
       " None,\n",
       " None,\n",
       " None,\n",
       " None,\n",
       " None,\n",
       " None,\n",
       " None,\n",
       " None,\n",
       " 'Cargo',\n",
       " None,\n",
       " None,\n",
       " None,\n",
       " None,\n",
       " 'Medium Residential',\n",
       " 'Medium Residential',\n",
       " 'Dense Residential',\n",
       " 'Dense Residential',\n",
       " 'Dense Residential',\n",
       " None,\n",
       " 'Medium Residential',\n",
       " 'Dense Residential',\n",
       " None,\n",
       " 'Medium Residential',\n",
       " 'Dense Residential']"
      ]
     },
     "execution_count": 9,
     "metadata": {},
     "output_type": "execute_result"
    }
   ],
   "source": [
    "muestra"
   ]
  },
  {
   "cell_type": "code",
   "execution_count": null,
   "metadata": {},
   "outputs": [],
   "source": []
  }
 ],
 "metadata": {
  "kernelspec": {
   "display_name": "Python 3",
   "language": "python",
   "name": "python3"
  },
  "language_info": {
   "codemirror_mode": {
    "name": "ipython",
    "version": 3
   },
   "file_extension": ".py",
   "mimetype": "text/x-python",
   "name": "python",
   "nbconvert_exporter": "python",
   "pygments_lexer": "ipython3",
   "version": "3.7.3"
  }
 },
 "nbformat": 4,
 "nbformat_minor": 2
}
