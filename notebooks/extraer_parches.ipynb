{
 "cells": [
  {
   "cell_type": "code",
   "execution_count": 1,
   "metadata": {},
   "outputs": [
    {
     "name": "stdout",
     "output_type": "stream",
     "text": [
      "1 Asphalt\n",
      "2 Bare Soil\n",
      "3 Beach\n",
      "4 Cargo\n",
      "5 Dense Residential\n",
      "6 Medium Residential\n",
      "7 Sparse residential\n",
      "8 Sparse Trees\n",
      "9 Water\n"
     ]
    }
   ],
   "source": [
    "import scipy.io\n",
    "mat = scipy.io.loadmat('../data/paper_arabe/groundTruthData.mat')\n",
    "\n",
    "classNames  = mat['classNames']\n",
    "classColors = mat['classColors']\n",
    "classSize   = mat['classSize']\n",
    "tileLabes   = mat['tileLabels']\n",
    "\n",
    "mapa_clases=dict()\n",
    "for i in range(len(classNames[0])):\n",
    "    print(i+1,classNames[0][i][0])\n",
    "    mapa_clases[i+1]=classNames[0][i][0]"
   ]
  },
  {
   "cell_type": "code",
   "execution_count": 17,
   "metadata": {},
   "outputs": [],
   "source": [
    "import imageio\n",
    "import numpy as np\n",
    "import os\n",
    "\n",
    "archivo = '../data/paper_arabe/jeddah.tif'\n",
    "image32 = imageio.imread(archivo)\n",
    "\n",
    "x_patches = 50\n",
    "y_patches = 81\n",
    "number_patches= int(x_patches)*int(y_patches)\n",
    "dimensions=(128,128)\n",
    "patches = np.zeros((number_patches,dimensions[0],dimensions[1],3), dtype=np.uint8)\n",
    "\n",
    "nombre_archivo=os.path.basename(archivo)[:-4]\n",
    "\n",
    "if not os.path.exists(\"../results/\"+nombre_archivo):\n",
    "    os.makedirs(\"../results/\"+nombre_archivo)\n",
    "\n",
    "etiquetas_parches=list()\n",
    "nombres_parches=list()\n",
    "\n",
    "for i in range(y_patches):\n",
    "    for j in range(x_patches):\n",
    "        patches[i*x_patches + j] = image32[dimensions[0]*i:dimensions[0]*(i+1),dimensions[1]*j:dimensions[1]*(j+1)]\n",
    "        imageio.imwrite(\"../results/\"+nombre_archivo+\"/patches_\"+nombre_archivo+\"_\"+str(i*x_patches + j)+\".png\", patches[i*x_patches + j])\n",
    "        nombres_parches.append(\"patches_\"+nombre_archivo+\"_\"+str(i*x_patches + j)+\".png\")\n",
    "    etiqueta_parche=list(map(mapa_clases.get, tileLabes[i]))\n",
    "    etiquetas_parches.append(etiqueta_parche)"
   ]
  },
  {
   "cell_type": "code",
   "execution_count": 25,
   "metadata": {},
   "outputs": [],
   "source": [
    "import pandas as pd\n",
    "parches=pd.DataFrame([nombres_parches,np.array(etiquetas_parches).flatten()]).T\n",
    "parches.columns=[\"imagen\",\"clase\"]\n",
    "parches.to_csv('parches_jeddah.csv',index=False)"
   ]
  },
  {
   "cell_type": "code",
   "execution_count": 24,
   "metadata": {},
   "outputs": [
    {
     "data": {
      "text/plain": [
       "4050"
      ]
     },
     "execution_count": 24,
     "metadata": {},
     "output_type": "execute_result"
    }
   ],
   "source": [
    "import numpy as np\n",
    "\n"
   ]
  }
 ],
 "metadata": {
  "kernelspec": {
   "display_name": "Python 3",
   "language": "python",
   "name": "python3"
  },
  "language_info": {
   "codemirror_mode": {
    "name": "ipython",
    "version": 3
   },
   "file_extension": ".py",
   "mimetype": "text/x-python",
   "name": "python",
   "nbconvert_exporter": "python",
   "pygments_lexer": "ipython3",
   "version": "3.7.3"
  }
 },
 "nbformat": 4,
 "nbformat_minor": 2
}
