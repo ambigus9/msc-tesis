{
 "cells": [
  {
   "cell_type": "code",
   "execution_count": null,
   "metadata": {},
   "outputs": [],
   "source": [
    "import imageio\n",
    "import numpy as np\n",
    "import os\n",
    "\n",
    "#archivo  = '../data/train/img/ZT76_39_A_1_12.jpg'\n",
    "archivo = '../data/train/mask/mask_ZT76_39_A_1_12.png'\n",
    "\n",
    "image32 = imageio.imread(archivo)\n",
    "\n",
    "x_patches = 4\n",
    "y_patches = 4\n",
    "number_patches= x_patches*y_patches\n",
    "dimensions=(750,750)\n",
    "patches = np.zeros((number_patches,dimensions[0],dimensions[1],4), dtype=np.uint8)\n",
    "\n",
    "for i in range(x_patches):\n",
    "    for j in range(y_patches):\n",
    "        patches[i*2 + j] = image32[dimensions[0]*i:dimensions[0]*(i+1),dimensions[1]*j:dimensions[1]*(j+1)]\n",
    "        imageio.imwrite(\"../results/train/mask/patches_\"+os.path.basename(archivo)[:-4]+\"_{0}{1}.png\".format(i,j), patches[i*2 + j])"
   ]
  },
  {
   "cell_type": "code",
   "execution_count": 57,
   "metadata": {},
   "outputs": [],
   "source": [
    "import imageio\n",
    "import numpy as np\n",
    "\n",
    "image32 = imageio.imread('../data/ucmerced/agricultural/agricultural04.tif')\n",
    "\n",
    "number_patches=4\n",
    "dimensions=(128,128)\n",
    "patches = np.zeros((number_patches,dimensions[0],dimensions[1],3), dtype=np.uint8)\n",
    "\n",
    "for i in range(int(np.sqrt(number_patches))):\n",
    "    for j in range(int(np.sqrt(number_patches))):\n",
    "        patches[i*2 + j] = image32[dimensions[0]*i:dimensions[0]*(i+1),dimensions[1]*j:dimensions[1]*(j+1)]\n",
    "        imageio.imwrite(\"../results/patches_agricultura04d_{0}{1}.png\".format(i,j), patches[i*2 + j])"
   ]
  },
  {
   "cell_type": "code",
   "execution_count": 63,
   "metadata": {},
   "outputs": [],
   "source": [
    "import imageio\n",
    "import numpy as np\n",
    "\n",
    "image32 = imageio.imread('../data/riyadh.tif')\n",
    "\n",
    "number_patches=4\n",
    "dimensions=(128,128)\n",
    "patches = np.zeros((3977,dimensions[0],dimensions[1],3), dtype=np.uint8)\n",
    "\n",
    "for i in range(7):\n",
    "    for j in range(9):\n",
    "        patches[i*7 + j] = image32[dimensions[0]*i:dimensions[0]*(i+1),dimensions[1]*j:dimensions[1]*(j+1)]\n",
    "        imageio.imwrite(\"../results/patches_riyadh_{0}{1}.png\".format(i,j), patches[i*7 + j])"
   ]
  }
 ],
 "metadata": {
  "kernelspec": {
   "display_name": "Python 3",
   "language": "python",
   "name": "python3"
  },
  "language_info": {
   "codemirror_mode": {
    "name": "ipython",
    "version": 3
   },
   "file_extension": ".py",
   "mimetype": "text/x-python",
   "name": "python",
   "nbconvert_exporter": "python",
   "pygments_lexer": "ipython3",
   "version": "3.7.3"
  }
 },
 "nbformat": 4,
 "nbformat_minor": 2
}
