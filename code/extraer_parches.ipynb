{
 "cells": [
  {
   "cell_type": "code",
   "execution_count": 31,
   "metadata": {},
   "outputs": [],
   "source": [
    "import imageio\n",
    "import numpy as np\n",
    "import os\n",
    "\n",
    "archivo = '../data/paper_arabe/jeddah.tif'\n",
    "image32 = imageio.imread(archivo)\n",
    "\n",
    "x_patches = 50\n",
    "y_patches = 81\n",
    "number_patches= int(x_patches)*int(y_patches)\n",
    "dimensions=(128,128)\n",
    "patches = np.zeros((number_patches,dimensions[0],dimensions[1],3), dtype=np.uint8)\n",
    "\n",
    "nombre_archivo=os.path.basename(archivo)[:-4]\n",
    "\n",
    "if not os.path.exists(\"../results/\"+nombre_archivo):\n",
    "    os.makedirs(\"../results/\"+nombre_archivo)\n",
    "\n",
    "for i in range(y_patches):\n",
    "    for j in range(x_patches):\n",
    "        patches[i*x_patches + j] = image32[dimensions[0]*i:dimensions[0]*(i+1),dimensions[1]*j:dimensions[1]*(j+1)]\n",
    "        imageio.imwrite(\"../results/\"+nombre_archivo+\"/patches_\"+nombre_archivo+\"_\"+str(i*x_patches + j)+\".png\", patches[i*x_patches + j])"
   ]
  },
  {
   "cell_type": "code",
   "execution_count": null,
   "metadata": {},
   "outputs": [],
   "source": []
  }
 ],
 "metadata": {
  "kernelspec": {
   "display_name": "Python 3",
   "language": "python",
   "name": "python3"
  },
  "language_info": {
   "codemirror_mode": {
    "name": "ipython",
    "version": 3
   },
   "file_extension": ".py",
   "mimetype": "text/x-python",
   "name": "python",
   "nbconvert_exporter": "python",
   "pygments_lexer": "ipython3",
   "version": "3.7.3"
  }
 },
 "nbformat": 4,
 "nbformat_minor": 2
}
